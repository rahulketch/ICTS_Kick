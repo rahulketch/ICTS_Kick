{
 "cells": [
  {
   "cell_type": "code",
   "execution_count": 15,
   "metadata": {
    "collapsed": false
   },
   "outputs": [],
   "source": [
    "%matplotlib inline\n",
    "import numpy as np\n",
    "import matplotlib.pyplot as plt\n",
    "import h5py\n",
    "import remnant_quantities as rm\n",
    "import simulation_data as sd\n",
    "import kick_Error\n",
    "import os\n",
    "speed_of_light = 299792.458\n",
    "savefig = False\n",
    "path = '../../Data/181'#path for the simulation\n",
    "path2 = '../../Data/001' + '/Lev5/'\n",
    "extrapolation_order = 2\n",
    "directory = 'Extrapolated_N%i.dir'%(extrapolation_order)\n",
    "#A  = harmonics.Simulation(path,'Extrapolated_N%i.dir'%(extrapolation_order))\n",
    "\n",
    "    "
   ]
  },
  {
   "cell_type": "code",
   "execution_count": 16,
   "metadata": {
    "collapsed": false
   },
   "outputs": [
    {
     "name": "stdout",
     "output_type": "stream",
     "text": [
      "(116.57504595651538, 5.9437718539951732)\n",
      "0.951654456935\n",
      "0.000322097057358\n",
      "[-0.00043511-0.00102152j -0.00043696-0.00101562j -0.00043871-0.00100972j\n",
      " ..., -0.00035601+0.00020793j -0.00035601+0.00020821j\n",
      " -0.00035601+0.0002085j ]\n"
     ]
    }
   ],
   "source": [
    "Total_Kick = kick_Error.highResKick(path,'Extrapolated_N%i.dir'%(extrapolation_order))\n",
    "\n",
    "#error = kick_Error.truncError(path,'Extrapolated_N%i.dir'%(extrapolation_order))\n",
    "#error = kick_Error.limitedModesError(path,'Extrapolated_N%i.dir'%(extrapolation_order))\n",
    "error = kick_Error.extrapolationError(path,directory)\n",
    "print(Total_Kick,error)\n",
    "sim = sd.Simulation(path2,directory)\n",
    "print(rm.getRemnantMass(sim))\n",
    "print(rm.getKick(sim))\n",
    "print(sim.Hcomp(2,2))"
   ]
  },
  {
   "cell_type": "code",
   "execution_count": null,
   "metadata": {
    "collapsed": false
   },
   "outputs": [],
   "source": [
    "\n",
    "\n",
    "\n"
   ]
  },
  {
   "cell_type": "code",
   "execution_count": null,
   "metadata": {
    "collapsed": true
   },
   "outputs": [],
   "source": []
  },
  {
   "cell_type": "code",
   "execution_count": null,
   "metadata": {
    "collapsed": true
   },
   "outputs": [],
   "source": []
  }
 ],
 "metadata": {
  "kernelspec": {
   "display_name": "Python 2",
   "language": "python",
   "name": "python2"
  },
  "language_info": {
   "codemirror_mode": {
    "name": "ipython",
    "version": 2
   },
   "file_extension": ".py",
   "mimetype": "text/x-python",
   "name": "python",
   "nbconvert_exporter": "python",
   "pygments_lexer": "ipython2",
   "version": "2.7.11"
  }
 },
 "nbformat": 4,
 "nbformat_minor": 0
}
