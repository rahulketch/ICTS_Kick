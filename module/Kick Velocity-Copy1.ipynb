{
 "cells": [
  {
   "cell_type": "code",
   "execution_count": 9,
   "metadata": {
    "collapsed": false
   },
   "outputs": [],
   "source": [
    "%matplotlib inline\n",
    "import numpy as np\n",
    "import matplotlib.pyplot as plt\n",
    "import h5py\n",
    "import remnant_quantities as rm\n",
    "import simulation_data as sd\n",
    "import kick_Error\n",
    "import os\n",
    "speed_of_light = 299792.458\n",
    "savefig = False\n",
    "path = '../../Data/023'#path for the simulation\n",
    "#path2 = '../../Data/001' + '/Lev5/'\n",
    "extrapolation_order = 4\n",
    "directory = 'Extrapolated_N%i.dir'%(extrapolation_order)\n",
    "#A  = harmonics.Simulation(path,'Extrapolated_N%i.dir'%(extrapolation_order))\n",
    "\n",
    "    "
   ]
  },
  {
   "cell_type": "code",
   "execution_count": 10,
   "metadata": {
    "collapsed": false
   },
   "outputs": [
    {
     "name": "stdout",
     "output_type": "stream",
     "text": [
      "(1398.0048790050148, 104.08803992765752)\n",
      "0.948748787722\n",
      "0.000995151205372\n",
      "[ 0.00024428+0.00098626j  0.00023978+0.00099435j  0.00023529+0.00100256j\n",
      " ..., -0.00057826+0.0026047j  -0.00057778+0.00260492j\n",
      " -0.00057732+0.00260512j]\n"
     ]
    }
   ],
   "source": [
    "Total_Kick = kick_Error.highResKick(path,'Extrapolated_N%i.dir'%(extrapolation_order))\n",
    "\n",
    "#error = kick_Error.truncError(path,'Extrapolated_N%i.dir'%(extrapolation_order))\n",
    "#error = kick_Error.limitedModesError(path,'Extrapolated_N%i.dir'%(extrapolation_order))\n",
    "error = kick_Error.extrapolationError(path,directory)\n",
    "error = kick_Error.junkError(path,directory)\n",
    "\n",
    "print(Total_Kick,error)\n",
    "sim = sd.Simulation(path2,directory)\n",
    "print(rm.getRemnantMass(sim))\n",
    "print(rm.getKick(sim))\n",
    "print(sim.Hcomp(2,2))"
   ]
  },
  {
   "cell_type": "code",
   "execution_count": null,
   "metadata": {
    "collapsed": false
   },
   "outputs": [],
   "source": [
    "\n",
    "\n",
    "\n"
   ]
  },
  {
   "cell_type": "code",
   "execution_count": null,
   "metadata": {
    "collapsed": true
   },
   "outputs": [],
   "source": []
  },
  {
   "cell_type": "code",
   "execution_count": null,
   "metadata": {
    "collapsed": true
   },
   "outputs": [],
   "source": []
  }
 ],
 "metadata": {
  "kernelspec": {
   "display_name": "Python 2",
   "language": "python",
   "name": "python2"
  },
  "language_info": {
   "codemirror_mode": {
    "name": "ipython",
    "version": 2
   },
   "file_extension": ".py",
   "mimetype": "text/x-python",
   "name": "python",
   "nbconvert_exporter": "python",
   "pygments_lexer": "ipython2",
   "version": "2.7.11"
  }
 },
 "nbformat": 4,
 "nbformat_minor": 0
}
