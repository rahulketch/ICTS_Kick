{
 "cells": [
  {
   "cell_type": "code",
   "execution_count": 4,
   "metadata": {
    "collapsed": false
   },
   "outputs": [],
   "source": [
    "%matplotlib inline\n",
    "import numpy as np\n",
    "import matplotlib.pyplot as plt\n",
    "import h5py\n",
    "import remnant_quantities as rm\n",
    "import simulation_data as sd\n",
    "import errors\n",
    "import os\n",
    "speed_of_light = 299792.458\n",
    "savefig = False\n",
    "path = '../../Data/201'#path for the simulation\n",
    "path2 = path + '/Lev3/'\n",
    "extrapolation_order = 2\n",
    "directory = 'Extrapolated_N%i.dir'%(extrapolation_order)\n",
    "#A  = harmonics.Simulation(path,'Extrapolated_N%i.dir'%(extrapolation_order))\n",
    "err = errors.Error(path,directory)\n",
    "    "
   ]
  },
  {
   "cell_type": "code",
   "execution_count": 5,
   "metadata": {
    "collapsed": false
   },
   "outputs": [
    {
     "name": "stdout",
     "output_type": "stream",
     "text": [
      "273.800440637\n",
      "(273.80044063709209, 158.81535200173087)\n",
      "0.210617549821\n",
      "(array(0.9625292824558449), 0.9647860908874674)\n"
     ]
    }
   ],
   "source": [
    "kick = err.kick\n",
    "print(kick)\n",
    "sim = sd.Simulation(path2,directory)\n",
    "sim2 = sd.Simulation(path2,directory,relaxed = True)\n",
    "print(rm.getKick(sim),rm.getKick(sim2))\n",
    "q = sim.metadata.q\n",
    "print(q/((1+q)**2))\n",
    "print(rm.getRemnantMass(sim),sim.metadata.remnant_mass)"
   ]
  },
  {
   "cell_type": "code",
   "execution_count": null,
   "metadata": {
    "collapsed": false
   },
   "outputs": [],
   "source": [
    "\n",
    "\n",
    "\n"
   ]
  },
  {
   "cell_type": "code",
   "execution_count": null,
   "metadata": {
    "collapsed": true
   },
   "outputs": [],
   "source": []
  },
  {
   "cell_type": "code",
   "execution_count": null,
   "metadata": {
    "collapsed": true
   },
   "outputs": [],
   "source": []
  }
 ],
 "metadata": {
  "kernelspec": {
   "display_name": "Python 2",
   "language": "python",
   "name": "python2"
  },
  "language_info": {
   "codemirror_mode": {
    "name": "ipython",
    "version": 2
   },
   "file_extension": ".py",
   "mimetype": "text/x-python",
   "name": "python",
   "nbconvert_exporter": "python",
   "pygments_lexer": "ipython2",
   "version": "2.7.11"
  }
 },
 "nbformat": 4,
 "nbformat_minor": 0
}
