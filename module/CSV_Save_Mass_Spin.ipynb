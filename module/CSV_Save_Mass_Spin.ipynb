{
 "cells": [
  {
   "cell_type": "code",
   "execution_count": 11,
   "metadata": {
    "collapsed": false
   },
   "outputs": [],
   "source": [
    "import numpy as np\n",
    "import os\n",
    "import errors\n",
    "import simulation_data as sd\n",
    "import remnant_quantities as rq\n",
    "main_path = '../../Data/'\n",
    "directory = 'Extrapolated_N2.dir'\n",
    "data = []\n",
    "data = os.walk(main_path).next()[1]\n",
    "err = errors.Error('../../Data/011',directory)\n"
   ]
  },
  {
   "cell_type": "code",
   "execution_count": 12,
   "metadata": {
    "collapsed": false
   },
   "outputs": [
    {
     "name": "stdout",
     "output_type": "stream",
     "text": [
      "Done: ../../Data/001\n",
      "Done: ../../Data/002\n",
      "Done: ../../Data/003\n",
      "Done: ../../Data/004\n",
      "Done: ../../Data/005\n",
      "Done: ../../Data/006\n",
      "Done: ../../Data/007\n",
      "Done: ../../Data/009\n",
      "Done: ../../Data/011\n",
      "Done: ../../Data/012\n",
      "Done: ../../Data/013\n",
      "Done: ../../Data/023\n",
      "Done: ../../Data/104\n",
      "Done: ../../Data/152\n",
      "Done: ../../Data/159\n",
      "Done: ../../Data/166\n",
      "Done: ../../Data/167\n",
      "Done: ../../Data/168\n",
      "Done: ../../Data/169\n",
      "Done: ../../Data/177\n",
      "Done: ../../Data/181\n"
     ]
    }
   ],
   "source": [
    "f = open('data3.csv','w')\n",
    "f.write('Name,Alt_name,q,S1x,S1y,S1z,S2x,S2y,S2z,Remnant_Sx_Hor,Remnant_Sy_Hor,Remnant_Sz_Hor,Sx_Calc,Sy_Calc,Sz_Calc,')\n",
    "f.write('Max_Error(Magnitutde),Max_Error_Source,Remnant_Mass_Hor,Remnant_Mass_Calc,Max_Error,Max_Error_Source,')\n",
    "f.write('V_mode(km/s),V_trunc(km/s),V_extrap(km/s),V_junk(km/s),V_downsample(km/s),Kick(km/s),Total_Error(km/s)\\n')\n",
    "for file in data:\n",
    "    path = main_path + file\n",
    "    err = errors.Error(path,directory)\n",
    "    sim = err.getHighResSim()\n",
    "    Name = sim.metadata.simulation_name\n",
    "    Alt_name = sim.metadata.alt_name\n",
    "    q = sim.metadata.initial_mass1/sim.metadata.initial_mass2\n",
    "    S1 = sim.metadata.initial_spin1\n",
    "    S2 = sim.metadata.initial_spin2\n",
    "    Remnant_S = sim.metadata.remnant_spin\n",
    "    Remnant_Sx_Hor = Remnant_S[0]\n",
    "    Remnant_Sy_Hor = Remnant_S[1]\n",
    "    Remnant_Sz_Hor = Remnant_S[2]\n",
    "    S1x = S1[0]\n",
    "    S1y = S1[1]\n",
    "    S1z = S1[2]\n",
    "    S2x = S2[0]\n",
    "    S2y = S2[1]\n",
    "    S2z = S2[2]\n",
    "    final_spin_calc = rq.getRemnantSpinComponents(sim)\n",
    "    Sx_Calc = final_spin_calc[0]\n",
    "    Sy_Calc = final_spin_calc[1]\n",
    "    Sz_Calc = final_spin_calc[2]\n",
    "    f.write('%s,%s,%0.3f,%0.3f,%0.3f,%0.3f,%0.3f,%0.3f,%0.3f,'%(Name,Alt_name,q,S1x,S1y,S1z,S2x,S2y,S2z))\n",
    "    f.write('%0.3f,%0.3f,%0.3f,%0.3f,%0.3f,%0.3f,'%(Remnant_Sx_Hor,Remnant_Sy_Hor,Remnant_Sz_Hor,Sx_Calc,Sy_Calc,Sz_Calc))\n",
    "    spin_error = [[err.truncErrorSpin(),'Truncation'],[err.limitedModesErrorSpin(),'Limited Modes'],\n",
    "                  [err.extrapolationErrorSpin(),'Extrapolation'],[err.junkErrorSpin(),'Junk Radiation']\n",
    "                  ,[err.downSampleErrorSpin(),'Downsampling']]\n",
    "    mass_error = [[err.truncErrorMass(),'Truncation'],[err.limitedModesErrorMass(),'Limited Modes'],\n",
    "                  [err.extrapolationErrorMass(),'Extrapolation'],[err.junkErrorMass(),'Junk Radiation']\n",
    "                  ,[err.downSampleErrorMass(),'Downsampling']]\n",
    "    spin_error = sorted(spin_error)\n",
    "    mass_error = sorted(mass_error)\n",
    "    f.write('%f,%s,'%(spin_error[-1][0],spin_error[-1][1]))\n",
    "    Remnant_Mass_Hor = sim.metadata.remnant_mass\n",
    "    Remnant_Mass_Calc = err.highResMass()\n",
    "    Max_Error = mass_error[-1][0]\n",
    "    Max_Error_Source = mass_error[-1][1]\n",
    "    f.write('%f,%f,%f,%s,'%(Remnant_Mass_Hor,Remnant_Mass_Calc,Max_Error,Max_Error_Source))\n",
    "    \n",
    "    Kick = err.highResKick()\n",
    "    V_trunc = err.truncErrorKick()\n",
    "    V_mode = err.limitedModesErrorKick()\n",
    "    V_extrap = err.extrapolationErrorKick()\n",
    "    V_junk = err.junkErrorKick()\n",
    "    V_downsample = err.downSampleErrorKick()\n",
    "    \n",
    "    \n",
    "    \n",
    "    if V_trunc<0:\n",
    "        Error = V_mode + V_extrap + V_junk + V_downsample\n",
    "        f.write('%f,-,%f,%f,%f,%f,%f'%(V_mode,V_extrap,V_junk,V_downsample,Kick,Error))\n",
    "    else:\n",
    "        Error = V_trunc + V_mode + V_extrap + V_junk + V_downsample\n",
    "        f.write('%f,%f,%f,%f,%f,%f,%f'%(V_mode,V_trunc,V_extrap,V_junk,V_downsample,Kick,Error))\n",
    "    f.write('\\n')\n",
    "    print('Done: '+path)\n",
    "f.close()\n",
    "    "
   ]
  },
  {
   "cell_type": "code",
   "execution_count": null,
   "metadata": {
    "collapsed": false
   },
   "outputs": [],
   "source": [
    "print(\"%0.2f\"%(0))"
   ]
  },
  {
   "cell_type": "code",
   "execution_count": 10,
   "metadata": {
    "collapsed": true
   },
   "outputs": [],
   "source": [
    "f.close()"
   ]
  },
  {
   "cell_type": "code",
   "execution_count": null,
   "metadata": {
    "collapsed": true
   },
   "outputs": [],
   "source": []
  }
 ],
 "metadata": {
  "kernelspec": {
   "display_name": "Python 2",
   "language": "python",
   "name": "python2"
  },
  "language_info": {
   "codemirror_mode": {
    "name": "ipython",
    "version": 2
   },
   "file_extension": ".py",
   "mimetype": "text/x-python",
   "name": "python",
   "nbconvert_exporter": "python",
   "pygments_lexer": "ipython2",
   "version": "2.7.11"
  }
 },
 "nbformat": 4,
 "nbformat_minor": 0
}
