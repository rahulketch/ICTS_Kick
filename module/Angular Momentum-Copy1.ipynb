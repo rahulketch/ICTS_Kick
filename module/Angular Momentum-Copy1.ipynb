{
 "cells": [
  {
   "cell_type": "code",
   "execution_count": 9,
   "metadata": {
    "collapsed": false
   },
   "outputs": [],
   "source": [
    "%matplotlib inline\n",
    "import numpy as np\n",
    "import matplotlib.pyplot as plt\n",
    "import h5py\n",
    "import energy\n",
    "import harmonics\n",
    "speed_of_light = 299792.458\n",
    "savefig = False\n",
    "path = '../../Data/001/Lev5/' #path for the simulation\n",
    "extrapolation_order = 2\n",
    "A  = harmonics.Simulation(path,'Extrapolated_N%i.dir'%(extrapolation_order))\n",
    "alm = []\n",
    "H2 = []\n",
    "\n",
    "input_file1 = h5py.File(path+'rhOverM_Asymptotic_GeometricUnits.h5','r')\n",
    "SXS = input_file1['Extrapolated_N%i.dir'%(extrapolation_order)]['Y_l%i_m%i.dat'%(2,-1)]\n",
    "t = SXS[:,0]\n",
    "dt = np.diff(t)\n",
    "\n",
    "def ALM(l,m):\n",
    "    #print(\"lol\",l,m)\n",
    "    if m>l or m<-l or l<2 or l>8:\n",
    "        return 0\n",
    "    return alm[l-2][m+l]\n",
    "def Hcomp(l,m):\n",
    "    if m>l or m<-l or l<2 or l>8:\n",
    "        return 0\n",
    "    return H2[l-2][m+l]\n",
    "def norm(vector):\n",
    "    return np.sqrt(vector[0]*vector[0]+vector[1]*vector[1]+vector[2]*vector[2])\n",
    "\n",
    "meta = open(path+'metadata.txt','r')\n",
    "for line in meta:\n",
    "    line = line.translate(None,\",\")\n",
    "    line = line.split()\n",
    "    if(len(line)<2):\n",
    "        continue;\n",
    "    var = line[0].translate(None,\" \")\n",
    "    if var == 'initial-ADM-energy':\n",
    "        initial_mass = float(line[2])\n",
    "    if var == 'initial-ADM-linear-momentum':\n",
    "        initial_p = np.array([float(line[2]),float(line[3]),float(line[4])])\n",
    "    if var == 'initial-ADM-angular-momentum':\n",
    "        initial_j = np.array([float(line[2]),float(line[3]),float(line[4])])\n",
    "    if var == 'remnant-mass':\n",
    "        remnant_mass = float(line[2])\n",
    "    if var == 'remnant-spin':\n",
    "        remnant_spin = np.array([float(line[2]),float(line[3]),float(line[4])])\n",
    "    if var == 'initial-mass1':\n",
    "        initial_mass1 = float(line[2])\n",
    "    if var == 'initial-mass2':\n",
    "        initial_mass2 = float(line[2])\n",
    "    if var == 'initial-spin1':\n",
    "        initial_spin1 = np.array([float(line[2]),float(line[3]),float(line[4])])\n",
    "    if var == 'initial-spin2':\n",
    "        initial_spin2 = np.array([float(line[2]),float(line[3]),float(line[4])])\n",
    "    if var == 'simulation-name':\n",
    "         simulation_name = line[2]\n",
    "    if var == 'alternative-names':\n",
    "         alt_name = line[2]\n",
    "    \n",
    "        \n",
    "#The following are coefficients used in calculations of radiated angular and linear momentum       \n",
    "def f(l,m):\n",
    "    return np.sqrt((l-m)*(l+m+1))\n",
    "def a(l,m):\n",
    "    return np.sqrt((1.0+0j)*(l-m)*(l+m+1.0))/(l*(l+1.0))\n",
    "def b(l,m):\n",
    "    return (np.sqrt((1+0j)*(l-2.0)*(l+2.0)*(l+m)*(l+m-1.0)/(2.0*l-1.0)/(2.0*l+1.0)))/(2.0*l)\n",
    "def c(l,m):\n",
    "    return 2.0*m/(l*(l+1.0))\n",
    "def d(l,m):\n",
    "    return (np.sqrt((1.0+0j)*(l-2.0)*(l+2.0)*(l-m)*(l+m)/(2.0*l-1.0)/(2.0*l+1)))/l\n",
    "\n",
    "#Calculates the H and Hdots to be used for further analysis.\n",
    "for l in range(2,9):\n",
    "    alm.append([])\n",
    "    H2.append([])\n",
    "    for m in range(-l,l+1):\n",
    "        SXS = input_file1['Extrapolated_N2.dir']['Y_l%i_m%i.dat'%(l,m)]\n",
    "        H = SXS[:,1]+(0+1j)*SXS[:,2]\n",
    "        t = SXS[:,0]\n",
    "        Hdot = np.diff(H)/np.diff(t)\n",
    "        alm[l-2].append(Hdot)\n",
    "        H2[l-2].append(H[1:])     \n",
    "    \n",
    "\n",
    "    "
   ]
  },
  {
   "cell_type": "code",
   "execution_count": 10,
   "metadata": {
    "collapsed": false
   },
   "outputs": [],
   "source": [
    "djx = (0+0j)\n",
    "djy = djx\n",
    "djz = djx\n",
    "for l in range(2,9):\n",
    "    for m in range(-l,l+1):\n",
    "        djx = djx + np.imag(Hcomp(l,m)*(f(l,m)*np.conj(ALM(l,m+1)) + f(l,-m)*np.conj(ALM(l,m-1))))\n",
    "        djy = djy - np.real(Hcomp(l,m)*(f(l,m)*np.conj(ALM(l,m+1)) - f(l,-m)*np.conj(ALM(l,m-1))))\n",
    "        djz = djz + np.imag(m*Hcomp(l,m)*np.conj(ALM(l,m)))\n",
    "final_spin = energy.getRemnantSpin(A)     \n",
    "# JX = np.real(np.cumsum(djx*dt)/(32*np.pi))\n",
    "# JY = np.real(np.cumsum(djy*dt)/(32*np.pi))\n",
    "# JZ = np.real(np.cumsum(djz*dt)/(16*np.pi))\n",
    "# J = np.array([JX,JY,JZ])\n",
    "#Total_J = norm(J)\n",
    "# Radiated_J = np.array([JX[-1],JY[-1],JZ[-1]])\n",
    "#Total_Radiated_J = norm(Radiated_J)\n",
    "# final_spin = initial_j - Radiated_J\n",
    "final_total_spin = norm(final_spin)\n",
    "remnant_total_spin = norm(remnant_spin)"
   ]
  },
  {
   "cell_type": "code",
   "execution_count": 11,
   "metadata": {
    "collapsed": false
   },
   "outputs": [
    {
     "name": "stdout",
     "output_type": "stream",
     "text": [
      "Mass Ratio: 0.999999999997\n",
      "Initial Spin1: [ -1.58925000e-13   1.18100000e-13   2.56273175e-10]\n",
      "Initial Spin2: [  1.12500000e-15  -7.00000000e-16   3.89845000e-12]\n",
      "Final Spin of Blackhole Calculated : [  4.26854073e-08  -2.34565103e-07   6.22618634e-01]\n",
      "Final Spin of Blackhole from Horizon Data : [ -6.60625106e-10   6.70538897e-10   6.21632568e-01]\n",
      "Percentage Error from Horizon Data : [  6.56136620e+03   3.50815804e+04   1.58625220e-01] \n",
      "Magnitude of the final Angular Momentum : 0.622618633964\n",
      "Percentage Error from Horizon Data : 0.15862522043\n"
     ]
    },
    {
     "ename": "NameError",
     "evalue": "name 'Total_J' is not defined",
     "output_type": "error",
     "traceback": [
      "\u001b[1;31m---------------------------------------------------------------------------\u001b[0m",
      "\u001b[1;31mNameError\u001b[0m                                 Traceback (most recent call last)",
      "\u001b[1;32m<ipython-input-11-aa742acf14ca>\u001b[0m in \u001b[0;36m<module>\u001b[1;34m()\u001b[0m\n\u001b[0;32m     13\u001b[0m \u001b[0mplt\u001b[0m\u001b[1;33m.\u001b[0m\u001b[0mxlabel\u001b[0m\u001b[1;33m(\u001b[0m\u001b[1;34m\"Time\"\u001b[0m\u001b[1;33m)\u001b[0m\u001b[1;33m\u001b[0m\u001b[0m\n\u001b[0;32m     14\u001b[0m \u001b[0mplt\u001b[0m\u001b[1;33m.\u001b[0m\u001b[0mylabel\u001b[0m\u001b[1;33m(\u001b[0m\u001b[1;34m\"Angular Momentum\"\u001b[0m\u001b[1;33m)\u001b[0m\u001b[1;33m\u001b[0m\u001b[0m\n\u001b[1;32m---> 15\u001b[1;33m \u001b[0mplt\u001b[0m\u001b[1;33m.\u001b[0m\u001b[0mplot\u001b[0m\u001b[1;33m(\u001b[0m\u001b[0mt\u001b[0m\u001b[1;33m[\u001b[0m\u001b[1;36m1\u001b[0m\u001b[1;33m:\u001b[0m\u001b[1;33m]\u001b[0m\u001b[1;33m,\u001b[0m\u001b[0mTotal_J\u001b[0m\u001b[1;33m)\u001b[0m\u001b[1;33m\u001b[0m\u001b[0m\n\u001b[0m\u001b[0;32m     16\u001b[0m \u001b[1;32mif\u001b[0m\u001b[1;33m(\u001b[0m\u001b[0msavefig\u001b[0m\u001b[1;33m)\u001b[0m\u001b[1;33m:\u001b[0m\u001b[1;33m\u001b[0m\u001b[0m\n\u001b[0;32m     17\u001b[0m     \u001b[0mplt\u001b[0m\u001b[1;33m.\u001b[0m\u001b[0msavefig\u001b[0m\u001b[1;33m(\u001b[0m\u001b[1;34m'images/'\u001b[0m\u001b[1;33m+\u001b[0m\u001b[0malt_name\u001b[0m \u001b[1;33m+\u001b[0m\u001b[1;34m'_t_j'\u001b[0m\u001b[1;33m)\u001b[0m\u001b[1;33m\u001b[0m\u001b[0m\n",
      "\u001b[1;31mNameError\u001b[0m: name 'Total_J' is not defined"
     ]
    },
    {
     "data": {
      "image/png": "[encoded data removed]",
      "text/plain": [
       "<matplotlib.figure.Figure at 0x7f631521e190>"
      ]
     },
     "metadata": {},
     "output_type": "display_data"
    }
   ],
   "source": [
    "print(\"Mass Ratio: {}\".format(initial_mass1/initial_mass2))\n",
    "print(\"Initial Spin1: {}\".format(initial_spin1))\n",
    "print(\"Initial Spin2: {}\".format(initial_spin2))\n",
    "print(\"Final Spin of Blackhole Calculated : {}\".format(final_spin))\n",
    "print(\"Final Spin of Blackhole from Horizon Data : {}\".format(remnant_spin))\n",
    "print(\"Percentage Error from Horizon Data : {} \".format(np.abs(((final_spin-remnant_spin)/remnant_spin)*100)))\n",
    "print(\"Magnitude of the final Angular Momentum : {}\".format(final_total_spin))\n",
    "print(\"Percentage Error from Horizon Data : {}\".format(np.abs((final_total_spin-remnant_total_spin)/remnant_total_spin*100)))\n",
    "\n",
    "\n",
    "plt.figure(1)\n",
    "plt.title(simulation_name)\n",
    "plt.xlabel(\"Time\")\n",
    "plt.ylabel(\"Angular Momentum\")\n",
    "plt.plot(t[1:],Total_J)\n",
    "if(savefig):\n",
    "    plt.savefig('images/'+alt_name +'_t_j')\n",
    "plt.show()\n",
    "\n",
    "plt.figure(2)\n",
    "plt.title(simulation_name)\n",
    "plt.xlabel(\"Time\")\n",
    "plt.ylabel(\"Angular Momentum in x direction\")\n",
    "plt.plot(t[1:],J[0])\n",
    "if(savefig):\n",
    "    plt.savefig('images/'+alt_name +'_x_j')\n",
    "plt.show()\n",
    "\n",
    "plt.figure(3)\n",
    "plt.title(simulation_name)\n",
    "plt.xlabel(\"Time\")\n",
    "plt.ylabel(\"Angular Momentum in y direction\")\n",
    "\n",
    "plt.plot(t[1:],J[1])\n",
    "if(savefig):\n",
    "    plt.savefig('images/'+alt_name +'_y_j')\n",
    "plt.show()\n",
    "\n",
    "plt.figure(4)\n",
    "plt.title(simulation_name)\n",
    "plt.xlabel(\"Time\")\n",
    "plt.ylabel(\"Angular Momentum in z direction\")\n",
    "plt.plot(t[1:],J[2])\n",
    "if(savefig):\n",
    "    plt.savefig('images/'+alt_name +'_z_j')\n",
    "plt.show()\n",
    "\n"
   ]
  },
  {
   "cell_type": "code",
   "execution_count": null,
   "metadata": {
    "collapsed": false
   },
   "outputs": [],
   "source": []
  },
  {
   "cell_type": "code",
   "execution_count": null,
   "metadata": {
    "collapsed": true
   },
   "outputs": [],
   "source": []
  }
 ],
 "metadata": {
  "kernelspec": {
   "display_name": "Python 2",
   "language": "python",
   "name": "python2"
  },
  "language_info": {
   "codemirror_mode": {
    "name": "ipython",
    "version": 2
   },
   "file_extension": ".py",
   "mimetype": "text/x-python",
   "name": "python",
   "nbconvert_exporter": "python",
   "pygments_lexer": "ipython2",
   "version": "2.7.11"
  }
 },
 "nbformat": 4,
 "nbformat_minor": 0
}
