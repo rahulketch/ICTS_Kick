{
 "cells": [
  {
   "cell_type": "code",
   "execution_count": 1,
   "metadata": {
    "collapsed": false
   },
   "outputs": [],
   "source": [
    "%matplotlib inline\n",
    "import numpy as np\n",
    "import matplotlib.pyplot as plt\n",
    "import h5py\n",
    "import test.metadata as meta\n",
    "speed_of_light = 299792.458\n",
    "path = '../../Data/011/Lev5/' #path for the simulation\n",
    "extrapolation_order = 2\n",
    "savefig = False\n",
    "\n",
    "alm = []\n",
    "H2 = []\n",
    "\n",
    "input_file1 = h5py.File(path+'rhOverM_Asymptotic_GeometricUnits.h5','r')\n",
    "SXS = input_file1['Extrapolated_N%i.dir'%(extrapolation_order)]['Y_l%i_m%i.dat'%(2,-1)]\n",
    "t = SXS[:,0]\n",
    "dt = np.diff(t)\n",
    "\n",
    "def ALM(l,m):\n",
    "    #print(\"lol\",l,m)\n",
    "    if m>l or m<-l or l<2 or l>8:\n",
    "        return 0\n",
    "    return alm[l-2][m+l]\n",
    "def Hcomp(l,m):\n",
    "    if m>l or m<-l or l<2 or l>8:\n",
    "        return 0\n",
    "    return H2[l-2][m+l]\n",
    "def norm(vector):\n",
    "    return np.sqrt(vector[0]*vector[0]+vector[1]*vector[1]+vector[2]*vector[2])\n",
    "\n",
    "metadata = meta.metadata(path)\n",
    "    \n",
    "        \n",
    "#The following are coefficients used in calculations of radiated angular and linear momentum       \n",
    "def f(l,m):\n",
    "    return np.sqrt((l-m)*(l+m+1))\n",
    "def a(l,m):\n",
    "    return np.sqrt((1.0+0j)*(l-m)*(l+m+1.0))/(l*(l+1.0))\n",
    "def b(l,m):\n",
    "    return (np.sqrt((1+0j)*(l-2.0)*(l+2.0)*(l+m)*(l+m-1.0)/(2.0*l-1.0)/(2.0*l+1.0)))/(2.0*l)\n",
    "def c(l,m):\n",
    "    return 2.0*m/(l*(l+1.0))\n",
    "def d(l,m):\n",
    "    return (np.sqrt((1.0+0j)*(l-2.0)*(l+2.0)*(l-m)*(l+m)/(2.0*l-1.0)/(2.0*l+1)))/l\n",
    "\n",
    "#Calculates the H and Hdots to be used for further analysis.\n",
    "for l in range(2,9):\n",
    "    alm.append([])\n",
    "    H2.append([])\n",
    "    for m in range(-l,l+1):\n",
    "        SXS = input_file1['Extrapolated_N2.dir']['Y_l%i_m%i.dat'%(l,m)]\n",
    "        H = SXS[:,1]+(0+1j)*SXS[:,2]\n",
    "        t = SXS[:,0]\n",
    "        Hdot = np.diff(H)/np.diff(t)\n",
    "        alm[l-2].append(Hdot)\n",
    "        H2[l-2].append(H[1:])     \n",
    "    \n",
    "\n",
    "    "
   ]
  },
  {
   "cell_type": "code",
   "execution_count": 2,
   "metadata": {
    "collapsed": false
   },
   "outputs": [],
   "source": [
    "#This calculates dE/dt where E is the energy radiated\n",
    "de = 0\n",
    "for l in range(2,9):\n",
    "    for m in range(-l,l+1):\n",
    "        de = de + ALM(l,m)*np.conj(ALM(l,m))\n",
    "E = np.cumsum(de*dt)/(16*np.pi) #Calculates the total energy by integrating over the time\n",
    "Radiated_Energy = E[-1] #The energy radiated away at the end of the simulation\n",
    "final_mass = np.real(metadata.initial_mass - Radiated_Energy) #Calculates the Remnant mass of the blackhole formed after the merger"
   ]
  },
  {
   "cell_type": "code",
   "execution_count": 3,
   "metadata": {
    "collapsed": false
   },
   "outputs": [
    {
     "name": "stdout",
     "output_type": "stream",
     "text": [
      "Mass Ratio: 1.5\n",
      "Initial Spin1: [  9.00000000e-02  -6.68541600e-12   1.55884680e-01]\n",
      "Initial Spin2: [  7.02889600e-12  -2.18493920e-11   6.23164832e-10]\n",
      "Final Mass of Blackhole Calculated : 0.945825703265\n",
      "Error from Horizon Data : 0.00638882122861 %\n"
     ]
    },
    {
     "data": {
      "image/png": "[encoded data removed]",
      "text/plain": [
       "<matplotlib.figure.Figure at 0x7fa5545cdd90>"
      ]
     },
     "metadata": {},
     "output_type": "display_data"
    }
   ],
   "source": [
    "print(\"Mass Ratio: {}\".format(metadata.initial_mass1/metadata.initial_mass2))\n",
    "print(\"Initial Spin1: {}\".format(metadata.initial_spin1))\n",
    "print(\"Initial Spin2: {}\".format(metadata.initial_spin2))\n",
    "print(\"Final Mass of Blackhole Calculated : {}\".format(final_mass))\n",
    "print(\"Error from Horizon Data : {} %\".format(np.abs(((final_mass-metadata.remnant_mass)/metadata.remnant_mass)*100)))\n",
    "\n",
    "plt.figure(1)\n",
    "plt.title(metadata.simulation_name)\n",
    "plt.xlabel(\"Time\")\n",
    "plt.ylabel(\"Energy Radiated\")\n",
    "plt.plot(t[1:],np.real(E))\n",
    "if(savefig):\n",
    "    plt.savefig('images/'+metadata.alt_name +'_E')\n",
    "plt.show()\n",
    "\n"
   ]
  },
  {
   "cell_type": "code",
   "execution_count": null,
   "metadata": {
    "collapsed": true
   },
   "outputs": [],
   "source": []
  },
  {
   "cell_type": "code",
   "execution_count": null,
   "metadata": {
    "collapsed": true
   },
   "outputs": [],
   "source": []
  }
 ],
 "metadata": {
  "kernelspec": {
   "display_name": "Python 2",
   "language": "python",
   "name": "python2"
  },
  "language_info": {
   "codemirror_mode": {
    "name": "ipython",
    "version": 2
   },
   "file_extension": ".py",
   "mimetype": "text/x-python",
   "name": "python",
   "nbconvert_exporter": "python",
   "pygments_lexer": "ipython2",
   "version": "2.7.11"
  }
 },
 "nbformat": 4,
 "nbformat_minor": 0
}
