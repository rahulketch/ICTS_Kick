{
 "cells": [
  {
   "cell_type": "code",
   "execution_count": 1,
   "metadata": {
    "collapsed": false
   },
   "outputs": [],
   "source": [
    "%matplotlib inline\n",
    "import numpy as np\n",
    "import matplotlib.pyplot as plt\n",
    "import h5py\n",
    "import test.metadata as meta\n",
    "import harmonics\n",
    "speed_of_light = 299792.458\n",
    "import energy\n",
    "\n",
    "path = '../../Data/166/Lev5/' #path for the simulation\n",
    "extrapolation_order = 2\n",
    "savefig = False\n",
    "A  = harmonics.Simulation(path,'Extrapolated_N%i.dir'%(extrapolation_order))\n",
    "input_file1 = h5py.File(path+'rhOverM_Asymptotic_GeometricUnits.h5','r')\n",
    "SXS = input_file1['Extrapolated_N%i.dir'%(extrapolation_order)]['Y_l%i_m%i.dat'%(2,-1)]\n",
    "SXS = input_file1['OutermostExtraction.dir']['Y_l%i_m%i.dat'%(2,-1)]\n",
    "\n",
    "t = SXS[:,0]\n",
    "dt = np.diff(t)\n",
    "\n",
    "\n",
    "\n",
    "\n",
    "def norm(vector):\n",
    "    return np.sqrt(vector[0]*vector[0]+vector[1]*vector[1]+vector[2]*vector[2])\n",
    "\n",
    "metadata = meta.metadata(path)\n",
    "    \n",
    "        \n",
    "#The following are coefficients used in calculations of radiated angular and linear momentum       \n",
    "\n",
    "\n",
    "    "
   ]
  },
  {
   "cell_type": "code",
   "execution_count": 2,
   "metadata": {
    "collapsed": false
   },
   "outputs": [
    {
     "name": "stdout",
     "output_type": "stream",
     "text": [
      "0.98551615984\n"
     ]
    }
   ],
   "source": [
    "print(energy.getRemnantMass(A))"
   ]
  },
  {
   "cell_type": "code",
   "execution_count": 8,
   "metadata": {
    "collapsed": false
   },
   "outputs": [
    {
     "name": "stdout",
     "output_type": "stream",
     "text": [
      "Mass Ratio: 6.00000013558\n",
      "Initial Spin1: [ -1.19124723e-10  -1.17256506e-10   6.75141908e-09]\n",
      "Initial Spin2: [  6.49330597e-13  -4.19179604e-13   1.86776600e-10]\n",
      "Final Mass of Blackhole Calculated : 0.98551615984\n",
      "Error from Horizon Data : 0.00457707193006 %\n"
     ]
    },
    {
     "data": {
      "image/png": "[encoded data removed]",
      "text/plain": [
       "<matplotlib.figure.Figure at 0x7fbb045ce8d0>"
      ]
     },
     "metadata": {},
     "output_type": "display_data"
    }
   ],
   "source": [
    "print(\"Mass Ratio: {}\".format(metadata.initial_mass1/metadata.initial_mass2))\n",
    "print(\"Initial Spin1: {}\".format(metadata.initial_spin1))\n",
    "print(\"Initial Spin2: {}\".format(metadata.initial_spin2))\n",
    "print(\"Final Mass of Blackhole Calculated : {}\".format(final_mass))\n",
    "print(\"Error from Horizon Data : {} %\".format(np.abs(((final_mass-metadata.remnant_mass)/metadata.remnant_mass)*100)))\n",
    "\n",
    "plt.figure(1)\n",
    "plt.title(metadata.simulation_name)\n",
    "plt.xlabel(\"Time\")\n",
    "plt.ylabel(\"Energy Radiated\")\n",
    "plt.plot(t[1:],np.real(E))\n",
    "if(savefig):\n",
    "    plt.savefig('images/'+metadata.alt_name +'_E')\n",
    "plt.show()\n",
    "\n"
   ]
  },
  {
   "cell_type": "code",
   "execution_count": null,
   "metadata": {
    "collapsed": true
   },
   "outputs": [],
   "source": []
  },
  {
   "cell_type": "code",
   "execution_count": null,
   "metadata": {
    "collapsed": true
   },
   "outputs": [],
   "source": []
  }
 ],
 "metadata": {
  "kernelspec": {
   "display_name": "Python 2",
   "language": "python",
   "name": "python2"
  },
  "language_info": {
   "codemirror_mode": {
    "name": "ipython",
    "version": 2
   },
   "file_extension": ".py",
   "mimetype": "text/x-python",
   "name": "python",
   "nbconvert_exporter": "python",
   "pygments_lexer": "ipython2",
   "version": "2.7.11"
  }
 },
 "nbformat": 4,
 "nbformat_minor": 0
}
