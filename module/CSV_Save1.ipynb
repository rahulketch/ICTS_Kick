{
 "cells": [
  {
   "cell_type": "code",
   "execution_count": 3,
   "metadata": {
    "collapsed": false
   },
   "outputs": [],
   "source": [
    "import numpy as np\n",
    "import os\n",
    "import kick_Error2 as ke\n",
    "import simulation_data as sd\n",
    "main_path = '../../Data/'\n",
    "directory = 'Extrapolated_N2.dir'\n",
    "data = []\n",
    "data = os.walk(main_path).next()[1]\n",
    "\n"
   ]
  },
  {
   "cell_type": "code",
   "execution_count": 4,
   "metadata": {
    "collapsed": false
   },
   "outputs": [
    {
     "name": "stdout",
     "output_type": "stream",
     "text": [
      "Done: ../../Data/001\n",
      "Done: ../../Data/002\n",
      "Done: ../../Data/003\n",
      "Done: ../../Data/004\n",
      "Done: ../../Data/005\n",
      "Done: ../../Data/006\n",
      "Done: ../../Data/007\n",
      "Done: ../../Data/009\n",
      "Done: ../../Data/011\n",
      "Done: ../../Data/012\n",
      "Done: ../../Data/013\n",
      "Done: ../../Data/023\n",
      "Done: ../../Data/104\n",
      "Done: ../../Data/152\n",
      "Done: ../../Data/159\n",
      "Done: ../../Data/166\n",
      "Done: ../../Data/167\n",
      "Done: ../../Data/168\n",
      "Done: ../../Data/169\n",
      "Done: ../../Data/177\n",
      "Done: ../../Data/181\n"
     ]
    }
   ],
   "source": [
    "f = open('data2.csv','w')\n",
    "f.write('Name,Alt_name,q,S1x,S1y,S1z,S2x,S2y,S2z,Kick,V_mode,V_trunc,V_extrap,V_junk,V_downsample,Error\\n')\n",
    "for file in data:\n",
    "    path = main_path + file\n",
    "    kick_Error = ke.Kick_Error(path,directory)\n",
    "    sim = kick_Error.getHighResSim()\n",
    "    Name = sim.metadata.simulation_name\n",
    "    Alt_name = sim.metadata.alt_name\n",
    "    q = sim.metadata.initial_mass1/sim.metadata.initial_mass2\n",
    "    S1 = sim.metadata.initial_spin1\n",
    "    S2 = sim.metadata.initial_spin2\n",
    "    S1x = S1[0]\n",
    "    S1y = S1[1]\n",
    "    S1z = S1[2]\n",
    "    S2x = S2[0]\n",
    "    S2y = S2[1]\n",
    "    S2z = S2[2]\n",
    "    Kick = kick_Error.highResKick()\n",
    "    V_trunc = kick_Error.truncError()\n",
    "    V_mode = kick_Error.limitedModesError()\n",
    "    V_extrap = kick_Error.extrapolationError()\n",
    "    V_junk = kick_Error.junkError()\n",
    "    V_downsample = kick_Error.downSampleError()\n",
    "    \n",
    "    if V_trunc<0:\n",
    "        Error = V_mode + V_extrap + V_junk + V_downsample\n",
    "        f.write('{},{},{},{},{},{},{},{},{},{},{},{},{},{},{},{}*\\n'.format(Name,Alt_name,q,S1x,S1y,S1z,S2x,S2y,S2z,Kick,V_mode,'-',V_extrap,V_junk,V_downsample,Error))\n",
    "    else:\n",
    "        Error = V_trunc + V_mode + V_extrap + V_junk + V_downsample\n",
    "        f.write('{},{},{},{},{},{},{},{},{},{},{},{},{},{},{},{}\\n'.format(Name,Alt_name,q,S1x,S1y,S1z,S2x,S2y,S2z,Kick,V_mode,V_trunc,V_extrap,V_junk,V_downsample,Error))\n",
    "    print('Done: '+path)\n",
    "f.close()\n",
    "    "
   ]
  },
  {
   "cell_type": "code",
   "execution_count": null,
   "metadata": {
    "collapsed": false
   },
   "outputs": [],
   "source": [
    "print('A','B')"
   ]
  },
  {
   "cell_type": "code",
   "execution_count": 3,
   "metadata": {
    "collapsed": true
   },
   "outputs": [],
   "source": [
    "f.close()"
   ]
  },
  {
   "cell_type": "code",
   "execution_count": null,
   "metadata": {
    "collapsed": true
   },
   "outputs": [],
   "source": []
  }
 ],
 "metadata": {
  "kernelspec": {
   "display_name": "Python 2",
   "language": "python",
   "name": "python2"
  },
  "language_info": {
   "codemirror_mode": {
    "name": "ipython",
    "version": 2
   },
   "file_extension": ".py",
   "mimetype": "text/x-python",
   "name": "python",
   "nbconvert_exporter": "python",
   "pygments_lexer": "ipython2",
   "version": "2.7.11"
  }
 },
 "nbformat": 4,
 "nbformat_minor": 0
}
