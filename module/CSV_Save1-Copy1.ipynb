{
 "cells": [
  {
   "cell_type": "code",
   "execution_count": 1,
   "metadata": {
    "collapsed": false
   },
   "outputs": [],
   "source": [
    "import numpy as np\n",
    "import os\n",
    "import kick_Error\n",
    "import simulation_data as sd\n",
    "main_path = '../../Data/'\n",
    "directory = 'Extrapolated_N2.dir'\n",
    "data = []\n",
    "data = os.walk(main_path).next()[1]\n",
    "\n"
   ]
  },
  {
   "cell_type": "code",
   "execution_count": null,
   "metadata": {
    "collapsed": false
   },
   "outputs": [],
   "source": [
    "f = open('data.csv','w')\n",
    "f.write('Name,Alt_name,q,S1x,S1y,S1z,S2x,S2y,S2z,Kick,V_mode,V_trunc,V_extrap,V_junk,V_downsample,Error\\n')\n",
    "for file in data:\n",
    "    path = main_path + file\n",
    "    sim = kick_Error.getHighResSim(path,directory)\n",
    "    Name = sim.metadata.simulation_name\n",
    "    Alt_name = sim.metadata.alt_name\n",
    "    q = sim.metadata.initial_mass1/sim.metadata.initial_mass2\n",
    "    S1 = sim.metadata.initial_spin1\n",
    "    S2 = sim.metadata.initial_spin2\n",
    "    S1x = S1[0]\n",
    "    S1y = S1[1]\n",
    "    S1z = S1[2]\n",
    "    S2x = S2[0]\n",
    "    S2y = S2[1]\n",
    "    S2z = S2[2]\n",
    "    Kick = kick_Error.highResKick(path,directory)\n",
    "    V_trunc = kick_Error.truncError(path,directory)\n",
    "    V_mode = kick_Error.limitedModesError(path,directory)\n",
    "    V_extrap = kick_Error.extrapolationError(path,directory)\n",
    "    V_junk = kick_Error.junkError(path,directory)\n",
    "    V_downsample = kick_Error.downSampleError(path,directory)\n",
    "    \n",
    "    if V_trunc<0:\n",
    "        Error = V_mode + V_extrap + V_junk + V_downsample\n",
    "        f.write('{},{},{},{},{},{},{},{},{},{},{},{},{},{},{},{}*\\n'.format(Name,Alt_name,q,S1x,S1y,S1z,S2x,S2y,S2z,Kick,V_mode,'-',V_extrap,V_junk,V_downsample,Error))\n",
    "    else:\n",
    "        Error = V_trunc + V_mode + V_extrap + V_junk + V_downsample\n",
    "        f.write('{},{},{},{},{},{},{},{},{},{},{},{},{},{},{},{}\\n'.format(Name,Alt_name,q,S1x,S1y,S1z,S2x,S2y,S2z,Kick,V_mode,V_trunc,V_extrap,V_junk,V_downsample,Error))\n",
    "    print('Done: '+path)\n",
    "f.close()\n",
    "    "
   ]
  },
  {
   "cell_type": "code",
   "execution_count": 3,
   "metadata": {
    "collapsed": false
   },
   "outputs": [
    {
     "name": "stdout",
     "output_type": "stream",
     "text": [
      "('A', 'B')\n"
     ]
    }
   ],
   "source": [
    "print('A','B')"
   ]
  },
  {
   "cell_type": "code",
   "execution_count": 10,
   "metadata": {
    "collapsed": true
   },
   "outputs": [],
   "source": [
    "f.close()"
   ]
  },
  {
   "cell_type": "code",
   "execution_count": null,
   "metadata": {
    "collapsed": true
   },
   "outputs": [],
   "source": []
  }
 ],
 "metadata": {
  "kernelspec": {
   "display_name": "Python 2",
   "language": "python",
   "name": "python2"
  },
  "language_info": {
   "codemirror_mode": {
    "name": "ipython",
    "version": 2
   },
   "file_extension": ".py",
   "mimetype": "text/x-python",
   "name": "python",
   "nbconvert_exporter": "python",
   "pygments_lexer": "ipython2",
   "version": "2.7.11"
  }
 },
 "nbformat": 4,
 "nbformat_minor": 0
}
