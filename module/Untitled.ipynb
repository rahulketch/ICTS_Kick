{
 "cells": [
  {
   "cell_type": "code",
   "execution_count": 1,
   "metadata": {
    "collapsed": false
   },
   "outputs": [],
   "source": [
    "%matplotlib inline\n",
    "import numpy as np\n",
    "import remnant_quantities as rq\n",
    "import simulation_data as sd\n",
    "import matplotlib.pyplot as plt\n",
    "import bisect\n",
    "import errors\n",
    "path = '../../Data/023'\n",
    "directory = 'Extrapolated_N2.dir'\n",
    "err = errors.Error(path,directory)\n",
    "sim = err.getHighResSim()\n",
    "\n"
   ]
  },
  {
   "cell_type": "code",
   "execution_count": 2,
   "metadata": {
    "collapsed": false,
    "scrolled": true
   },
   "outputs": [
    {
     "name": "stdout",
     "output_type": "stream",
     "text": [
      "[ 0.09077469 -0.04171651  0.61395447]\n",
      "(0.62302124568097073, 0.0001805928150584446, 0.0091846401903944441, 0.0026675845014919597, 3.6446662959876974e-06, 0.0016520704413518494)\n",
      "0.953512795609\n",
      "(array(0.9537450599958115), 1.5741926689294417e-05, 0.00037663837663715061, 0.0001158984393888618, 1.5809636306762798e-06, 0.00038994992617014113)\n",
      "(array(0.9537450599958115), 1)\n",
      "3.64466629599e-06\n"
     ]
    }
   ],
   "source": [
    "print(sim.metadata.remnant_spin)\n",
    "print(err.highResSpin(),err.downSampleErrorSpin(),err.extrapolationErrorSpin(),err.junkErrorSpin(),\n",
    "      err.limitedModesErrorSpin(),err.truncErrorSpin())\n",
    "print(sim.metadata.remnant_mass)\n",
    "print(err.highResMass(),err.downSampleErrorMass(),err.extrapolationErrorMass(),err.junkErrorMass(),\n",
    "      err.limitedModesErrorMass(),err.truncErrorMass())\n",
    "print(err.highResMass(),1)\n",
    "print(err.limitedModesErrorSpin())"
   ]
  },
  {
   "cell_type": "code",
   "execution_count": 37,
   "metadata": {
    "collapsed": false
   },
   "outputs": [
    {
     "name": "stdout",
     "output_type": "stream",
     "text": [
      "(20476, 20478)\n"
     ]
    },
    {
     "data": {
      "text/plain": [
       "array([  160.20782182,   160.70772267,   161.20762352, ...,  6609.17749156,\n",
       "        6609.27746974,  6609.37744792])"
      ]
     },
     "execution_count": 37,
     "metadata": {},
     "output_type": "execute_result"
    }
   ],
   "source": [
    "print(len(ALM),len(sim1.time))\n",
    "sim1.time\n",
    "# [ 0.0907202  -0.0423091   0.61492703]\n",
    "# [ 0.09010636 -0.04240313  0.61154324]\n",
    "# [ 0.08842172 -0.04406088  0.59927644]\n",
    "# [ 0.08918557 -0.04146931  0.60590561]\n",
    "# 0.953745059996\n",
    "# 0.952904474808\n",
    "# 0.945617280141\n",
    "# 0.953368421619\n",
    "# 977.08586495\n",
    "# 1029.11268763\n",
    "# 1398.00487901\n",
    "# 971.256516661"
   ]
  },
  {
   "cell_type": "code",
   "execution_count": 17,
   "metadata": {
    "collapsed": false
   },
   "outputs": [
    {
     "name": "stdout",
     "output_type": "stream",
     "text": [
      "2\n",
      "[6, 7, 8]\n"
     ]
    }
   ],
   "source": [
    "a = [5,6,7,8]\n",
    "print(bisect.bisect_right(a,6))\n",
    "i = bisect.bisect_right(a,6)\n",
    "print(a[i-1:])"
   ]
  },
  {
   "cell_type": "code",
   "execution_count": null,
   "metadata": {
    "collapsed": true
   },
   "outputs": [],
   "source": []
  }
 ],
 "metadata": {
  "kernelspec": {
   "display_name": "Python 2",
   "language": "python",
   "name": "python2"
  },
  "language_info": {
   "codemirror_mode": {
    "name": "ipython",
    "version": 2
   },
   "file_extension": ".py",
   "mimetype": "text/x-python",
   "name": "python",
   "nbconvert_exporter": "python",
   "pygments_lexer": "ipython2",
   "version": "2.7.11"
  }
 },
 "nbformat": 4,
 "nbformat_minor": 0
}
