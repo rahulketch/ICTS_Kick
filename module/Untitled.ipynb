{
 "cells": [
  {
   "cell_type": "code",
   "execution_count": 38,
   "metadata": {
    "collapsed": false
   },
   "outputs": [],
   "source": [
    "%matplotlib inline\n",
    "import numpy as np\n",
    "import remnant_quantities as rq\n",
    "import simulation_data as sd\n",
    "import matplotlib.pyplot as plt\n",
    "import bisect\n",
    "path = '../../Data/011/Lev5/'\n",
    "sim1 = sd.Simulation(path,'Extrapolated_N2.dir',True)\n",
    "sim2 = sd.Simulation(path,'Extrapolated_N3.dir',True)\n",
    "sim3 = sd.Simulation(path,'Extrapolated_N4.dir',True)\n",
    "sim4 = sd.Simulation(path,'OutermostExtraction.dir',True)\n",
    "asim1 = sd.Simulation(path,'Extrapolated_N2.dir')\n",
    "asim2 = sd.Simulation(path,'Extrapolated_N3.dir')\n",
    "asim3 = sd.Simulation(path,'Extrapolated_N4.dir')\n",
    "asim4 = sd.Simulation(path,'OutermostExtraction.dir')"
   ]
  },
  {
   "cell_type": "code",
   "execution_count": 39,
   "metadata": {
    "collapsed": false,
    "scrolled": true
   },
   "outputs": [
    {
     "name": "stdout",
     "output_type": "stream",
     "text": [
      "[ 0.09041809 -0.04226981  0.61598191]\n",
      "[ 0.08873641 -0.04224422  0.60717094]\n",
      "[ 0.08350285 -0.04267868  0.57959525]\n",
      "[ 0.08927445 -0.0415437   0.60936046]\n",
      "0.953449516096\n",
      "0.95128124312\n",
      "0.94395608906\n",
      "0.953375360781\n",
      "(620.41700112022932, 617.94485908777108)\n",
      "(637.71208253035752, 632.36339199096403)\n",
      "(758.52808554909245, 685.80857481776923)\n",
      "(623.22766707670678, 621.68564023043109)\n"
     ]
    },
    {
     "data": {
      "image/png": "[encoded data removed]",
      "text/plain": [
       "<matplotlib.figure.Figure at 0x7f438412a090>"
      ]
     },
     "metadata": {},
     "output_type": "display_data"
    }
   ],
   "source": [
    "\n",
    "# mass1 = rq.getRemnantMass(sim1)\n",
    "# mass2 = rq.getRemnantMass(sim2)\n",
    "# mass3 = rq.getRemnantMass(sim3)\n",
    "# mass4 = rq.getRemnantMass(sim4)\n",
    "# spin1 = rq.getRemnantSpin(sim1)\n",
    "# spin2 = rq.getRemnantSpin(sim2)\n",
    "# spin3 = rq.getRemnantSpin(sim3)\n",
    "# spin4 = rq.getRemnantSpin(sim4)\n",
    "kick1 = rq.getKick(sim1)\n",
    "kick2 = rq.getKick(sim2)\n",
    "kick3 = rq.getKick(sim3)\n",
    "kick4 = rq.getKick(sim4)\n",
    "akick1 = rq.getKick(asim1)\n",
    "akick2 = rq.getKick(asim2)\n",
    "akick3 = rq.getKick(asim3)\n",
    "akick4 = rq.getKick(asim4)\n",
    "# print(spin1)\n",
    "# print(spin2)\n",
    "# print(spin3)\n",
    "# print(spin4)\n",
    "\n",
    "# print(mass1)\n",
    "# print(mass2)\n",
    "# print(mass3)\n",
    "# print(mass4)\n",
    "\n",
    "print(kick1,akick1)\n",
    "print(kick2,akick2)\n",
    "print(kick3,akick3)\n",
    "print(kick4,akick4)\n",
    "# plt.figure()\n",
    "# ALM = np.diff(sim1.alm[0][0])/sim1.dt[1:]\n",
    "# plt.plot(sim1.time[2:],ALM)\n",
    "# ALM = np.diff(sim2.alm[0][0])/sim2.dt[1:]\n",
    "# plt.plot(sim2.time[2:],ALM+0.001)\n",
    "\n",
    "# plt.show()"
   ]
  },
  {
   "cell_type": "code",
   "execution_count": 37,
   "metadata": {
    "collapsed": false
   },
   "outputs": [
    {
     "name": "stdout",
     "output_type": "stream",
     "text": [
      "(20476, 20478)\n"
     ]
    },
    {
     "data": {
      "text/plain": [
       "array([  160.20782182,   160.70772267,   161.20762352, ...,  6609.17749156,\n",
       "        6609.27746974,  6609.37744792])"
      ]
     },
     "execution_count": 37,
     "metadata": {},
     "output_type": "execute_result"
    }
   ],
   "source": [
    "print(len(ALM),len(sim1.time))\n",
    "sim1.time\n",
    "# [ 0.0907202  -0.0423091   0.61492703]\n",
    "# [ 0.09010636 -0.04240313  0.61154324]\n",
    "# [ 0.08842172 -0.04406088  0.59927644]\n",
    "# [ 0.08918557 -0.04146931  0.60590561]\n",
    "# 0.953745059996\n",
    "# 0.952904474808\n",
    "# 0.945617280141\n",
    "# 0.953368421619\n",
    "# 977.08586495\n",
    "# 1029.11268763\n",
    "# 1398.00487901\n",
    "# 971.256516661"
   ]
  },
  {
   "cell_type": "code",
   "execution_count": 17,
   "metadata": {
    "collapsed": false
   },
   "outputs": [
    {
     "name": "stdout",
     "output_type": "stream",
     "text": [
      "2\n",
      "[6, 7, 8]\n"
     ]
    }
   ],
   "source": [
    "a = [5,6,7,8]\n",
    "print(bisect.bisect_right(a,6))\n",
    "i = bisect.bisect_right(a,6)\n",
    "print(a[i-1:])"
   ]
  },
  {
   "cell_type": "code",
   "execution_count": null,
   "metadata": {
    "collapsed": true
   },
   "outputs": [],
   "source": []
  }
 ],
 "metadata": {
  "kernelspec": {
   "display_name": "Python 2",
   "language": "python",
   "name": "python2"
  },
  "language_info": {
   "codemirror_mode": {
    "name": "ipython",
    "version": 2
   },
   "file_extension": ".py",
   "mimetype": "text/x-python",
   "name": "python",
   "nbconvert_exporter": "python",
   "pygments_lexer": "ipython2",
   "version": "2.7.11"
  }
 },
 "nbformat": 4,
 "nbformat_minor": 0
}
