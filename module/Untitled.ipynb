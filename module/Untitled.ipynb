{
 "cells": [
  {
   "cell_type": "code",
   "execution_count": 1,
   "metadata": {
    "collapsed": false
   },
   "outputs": [],
   "source": [
    "\n",
    "import numpy as np\n",
    "import remnant_quantities as rq\n",
    "import simulation_data as sd\n",
    "import matplotlib.pyplot as plt\n",
    "path = '../../Data/023/Lev4/'\n",
    "sim1 = sd.Simulation(path,'Extrapolated_N2.dir')\n",
    "sim2 = sd.Simulation(path,'Extrapolated_N3.dir')\n",
    "sim3 = sd.Simulation(path,'Extrapolated_N4.dir')\n",
    "sim4 = sd.Simulation(path,'OutermostExtraction.dir')"
   ]
  },
  {
   "cell_type": "code",
   "execution_count": 5,
   "metadata": {
    "collapsed": false
   },
   "outputs": [
    {
     "name": "stdout",
     "output_type": "stream",
     "text": [
      "0.953295317619\n",
      "[ 0.09075904 -0.04172185  0.61370673]\n",
      "[ 0.09040949 -0.04229813  0.6132998 ]\n",
      "[ 0.08874562 -0.04230203  0.60448546]\n",
      "[ 0.08368985 -0.04329062  0.57733142]\n",
      "[ 0.08926452 -0.04155099  0.60641181]\n",
      "0.95335511007\n",
      "0.951150640699\n",
      "0.943135639264\n",
      "0.953295377096\n",
      "1017.90057864\n",
      "1174.95209762\n",
      "1767.36561699\n",
      "993.403039929\n"
     ]
    }
   ],
   "source": [
    "print(sim1.metadata.remnant_mass)\n",
    "print(sim1.metadata.remnant_spin)\n",
    "mass1 = rq.getRemnantMass(sim1)\n",
    "mass2 = rq.getRemnantMass(sim2)\n",
    "mass3 = rq.getRemnantMass(sim3)\n",
    "mass4 = rq.getRemnantMass(sim4)\n",
    "spin1 = rq.getRemnantSpin(sim1)\n",
    "spin2 = rq.getRemnantSpin(sim2)\n",
    "spin3 = rq.getRemnantSpin(sim3)\n",
    "spin4 = rq.getRemnantSpin(sim4)\n",
    "kick1 = rq.getKick(sim1)\n",
    "kick2 = rq.getKick(sim2)\n",
    "kick3 = rq.getKick(sim3)\n",
    "kick4 = rq.getKick(sim4)\n",
    "print(spin1)\n",
    "print(spin2)\n",
    "print(spin3)\n",
    "print(spin4)\n",
    "\n",
    "print(mass1)\n",
    "print(mass2)\n",
    "print(mass3)\n",
    "print(mass4)\n",
    "\n",
    "print(kick1)\n",
    "print(kick2)\n",
    "print(kick3)\n",
    "print(kick4)\n",
    "plt.figure()\n",
    "ALM = np.diff(sim2.alm[0][0])/sim2.dt[1:]\n",
    "plt.plot(sim2.time[2:],ALM)\n",
    "plt.show()"
   ]
  },
  {
   "cell_type": "code",
   "execution_count": 3,
   "metadata": {
    "collapsed": false
   },
   "outputs": [
    {
     "name": "stdout",
     "output_type": "stream",
     "text": [
      "(20923, 20925)\n"
     ]
    },
    {
     "data": {
      "text/plain": [
       "array([ -108.74122509,  -108.24132697,  -107.74142884, ...,  6571.961435  ,\n",
       "        6572.06141204,  6572.16138909])"
      ]
     },
     "execution_count": 3,
     "metadata": {},
     "output_type": "execute_result"
    }
   ],
   "source": [
    "print(len(ALM),len(sim1.time))\n",
    "sim1.time\n",
    "# [ 0.0907202  -0.0423091   0.61492703]\n",
    "# [ 0.09010636 -0.04240313  0.61154324]\n",
    "# [ 0.08842172 -0.04406088  0.59927644]\n",
    "# [ 0.08918557 -0.04146931  0.60590561]\n",
    "# 0.953745059996\n",
    "# 0.952904474808\n",
    "# 0.945617280141\n",
    "# 0.953368421619\n",
    "# 977.08586495\n",
    "# 1029.11268763\n",
    "# 1398.00487901\n",
    "# 971.256516661"
   ]
  },
  {
   "cell_type": "code",
   "execution_count": null,
   "metadata": {
    "collapsed": true
   },
   "outputs": [],
   "source": []
  }
 ],
 "metadata": {
  "kernelspec": {
   "display_name": "Python 2",
   "language": "python",
   "name": "python2"
  },
  "language_info": {
   "codemirror_mode": {
    "name": "ipython",
    "version": 2
   },
   "file_extension": ".py",
   "mimetype": "text/x-python",
   "name": "python",
   "nbconvert_exporter": "python",
   "pygments_lexer": "ipython2",
   "version": "2.7.11"
  }
 },
 "nbformat": 4,
 "nbformat_minor": 0
}
