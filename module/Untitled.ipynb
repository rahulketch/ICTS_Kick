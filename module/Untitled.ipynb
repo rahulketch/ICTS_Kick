{
 "cells": [
  {
   "cell_type": "code",
   "execution_count": 3,
   "metadata": {
    "collapsed": true
   },
   "outputs": [],
   "source": [
    "import numpy as np\n",
    "initial_mass = []\n",
    "initial_p = []\n",
    "initial_j = []\n",
    "remnant_mass = []\n",
    "\n",
    "initial_mass = []\n",
    "def getMeta(path):\n",
    "    data = open(path+'metadata.txt','r')\n",
    "    for line in data:\n",
    "        line = line.translate(None,\",\")\n",
    "        line = line.split()\n",
    "        if(len(line)<2):\n",
    "            continue;\n",
    "        var = line[0].translate(None,\" \")\n",
    "        if var == 'initial-ADM-energy':\n",
    "            initial_mass = float(line[2])\n",
    "        if var == 'initial-ADM-linear-momentum':\n",
    "            initial_p = np.array([float(line[2]),float(line[3]),float(line[4])])\n",
    "        if var == 'initial-ADM-angular-momentum':\n",
    "            initial_j = np.array([float(line[2]),float(line[3]),float(line[4])])\n",
    "        if var == 'remnant-mass':\n",
    "            remnant_mass = float(line[2])\n",
    "        if var == 'remnant-spin':\n",
    "            remnant_spin = np.array([float(line[2]),float(line[3]),float(line[4])])\n",
    "        if var == 'initial-mass1':\n",
    "            initial_mass1 = float(line[2])\n",
    "        if var == 'initial-mass2':\n",
    "            initial_mass2 = float(line[2])\n",
    "        if var == 'initial-spin1':\n",
    "            initial_spin1 = np.array([float(line[2]),float(line[3]),float(line[4])])\n",
    "        if var == 'initial-spin2':\n",
    "            initial_spin2 = np.array([float(line[2]),float(line[3]),float(line[4])])\n",
    "        if var == 'alternative-names':\n",
    "             alt_name = line[2]\n",
    "        if var == 'simulation-name':\n",
    "             simulation_name= line[2] "
   ]
  }
 ],
 "metadata": {
  "kernelspec": {
   "display_name": "Python 2",
   "language": "python",
   "name": "python2"
  },
  "language_info": {
   "codemirror_mode": {
    "name": "ipython",
    "version": 2
   },
   "file_extension": ".py",
   "mimetype": "text/x-python",
   "name": "python",
   "nbconvert_exporter": "python",
   "pygments_lexer": "ipython2",
   "version": "2.7.11"
  }
 },
 "nbformat": 4,
 "nbformat_minor": 0
}
