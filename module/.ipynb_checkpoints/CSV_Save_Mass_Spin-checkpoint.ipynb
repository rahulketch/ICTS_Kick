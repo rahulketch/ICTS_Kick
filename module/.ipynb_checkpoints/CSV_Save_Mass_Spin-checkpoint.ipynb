{
 "cells": [
  {
   "cell_type": "code",
   "execution_count": 1,
   "metadata": {
    "collapsed": false
   },
   "outputs": [],
   "source": [
    "import numpy as np\n",
    "import os\n",
    "import errors\n",
    "import simulation_data as sd\n",
    "import remnant_quantities as rq\n",
    "main_path = '../../Data/'\n",
    "directory = 'Extrapolated_N2.dir'\n",
    "data = []\n",
    "data = os.walk(main_path).next()[1]\n",
    "err = errors.Error('../../Data/011',directory)\n"
   ]
  },
  {
   "cell_type": "code",
   "execution_count": 6,
   "metadata": {
    "collapsed": false
   },
   "outputs": [
    {
     "ename": "NameError",
     "evalue": "name 'kick_Error' is not defined",
     "output_type": "error",
     "traceback": [
      "\u001b[1;31m---------------------------------------------------------------------------\u001b[0m",
      "\u001b[1;31mNameError\u001b[0m                                 Traceback (most recent call last)",
      "\u001b[1;32m<ipython-input-6-03b864b79e47>\u001b[0m in \u001b[0;36m<module>\u001b[1;34m()\u001b[0m\n\u001b[0;32m     43\u001b[0m     \u001b[0mf\u001b[0m\u001b[1;33m.\u001b[0m\u001b[0mwrite\u001b[0m\u001b[1;33m(\u001b[0m\u001b[1;34m'%f,%f,%f,%s'\u001b[0m\u001b[1;33m%\u001b[0m\u001b[1;33m(\u001b[0m\u001b[0mRemnant_Mass_Hor\u001b[0m\u001b[1;33m,\u001b[0m\u001b[0mRemnant_Mass_Calc\u001b[0m\u001b[1;33m,\u001b[0m\u001b[0mMax_Error\u001b[0m\u001b[1;33m,\u001b[0m\u001b[0mMax_Error_Source\u001b[0m\u001b[1;33m)\u001b[0m\u001b[1;33m)\u001b[0m\u001b[1;33m\u001b[0m\u001b[0m\n\u001b[0;32m     44\u001b[0m \u001b[1;33m\u001b[0m\u001b[0m\n\u001b[1;32m---> 45\u001b[1;33m     \u001b[0mKick\u001b[0m \u001b[1;33m=\u001b[0m \u001b[0mkick_Error\u001b[0m\u001b[1;33m.\u001b[0m\u001b[0mhighResKick\u001b[0m\u001b[1;33m(\u001b[0m\u001b[1;33m)\u001b[0m\u001b[1;33m\u001b[0m\u001b[0m\n\u001b[0m\u001b[0;32m     46\u001b[0m     \u001b[0mV_trunc\u001b[0m \u001b[1;33m=\u001b[0m \u001b[0mkick_Error\u001b[0m\u001b[1;33m.\u001b[0m\u001b[0mtruncErrorKick\u001b[0m\u001b[1;33m(\u001b[0m\u001b[1;33m)\u001b[0m\u001b[1;33m\u001b[0m\u001b[0m\n\u001b[0;32m     47\u001b[0m     \u001b[0mV_mode\u001b[0m \u001b[1;33m=\u001b[0m \u001b[0mkick_Error\u001b[0m\u001b[1;33m.\u001b[0m\u001b[0mlimitedModesErrorKick\u001b[0m\u001b[1;33m(\u001b[0m\u001b[1;33m)\u001b[0m\u001b[1;33m\u001b[0m\u001b[0m\n",
      "\u001b[1;31mNameError\u001b[0m: name 'kick_Error' is not defined"
     ]
    }
   ],
   "source": [
    "f = open('data3.csv','w')\n",
    "f.write('Name,Alt_name,q,S1x,S1y,S1z,S2x,S2y,S2z,Remnant_Sx_Hor,Remnant_Sy_Hor,Remnant_Sz_Hor,Sx_Calc,Sy_Calc,Sz_Calc,')\n",
    "f.write('Max_Error(Magnitutde),Max_Error_Source,Remnant_Mass_Hor,Remnant_Mass_Calc,Max_Error,Max_Error_Source,')\n",
    "f.write('V_mode(km/s),V_trunc(km/s),V_extrap(km/s),V_junk(km/s),V_downsample(km/s),Kick(km/s),Total_Error(km/s)\\n')\n",
    "for file in data:\n",
    "    path = main_path + file\n",
    "    err = errors.Error(path,directory)\n",
    "    sim = err.getHighResSim()\n",
    "    Name = sim.metadata.simulation_name\n",
    "    Alt_name = sim.metadata.alt_name\n",
    "    q = sim.metadata.initial_mass1/sim.metadata.initial_mass2\n",
    "    S1 = sim.metadata.initial_spin1\n",
    "    S2 = sim.metadata.initial_spin2\n",
    "    Remnant_S = sim.metadata.remnant_spin\n",
    "    Remnant_Sx_Hor = Remnant_S[0]\n",
    "    Remnant_Sy_Hor = Remnant_S[1]\n",
    "    Remnant_Sz_Hor = Remnant_S[2]\n",
    "    S1x = S1[0]\n",
    "    S1y = S1[1]\n",
    "    S1z = S1[2]\n",
    "    S2x = S2[0]\n",
    "    S2y = S2[1]\n",
    "    S2z = S2[2]\n",
    "    final_spin_calc = rq.getRemnantSpinComponents(sim)\n",
    "    Sx_Calc = final_spin_calc[0]\n",
    "    Sy_Calc = final_spin_calc[1]\n",
    "    Sz_Calc = final_spin_calc[2]\n",
    "    f.write('%s,%s,%0.3f,%0.3f,%0.3f,%0.3f,%0.3f,%0.3f,%0.3f'%(Name,Alt_name,q,S1x,S1y,S1z,S2x,S2y,S2z))\n",
    "    f.write('%0.3f,%0.3f,%0.3f,%0.3f,%0.3f,%0.3f'%(Remnant_Sx_Hor,Remnant_Sy_Hor,Remnant_Sz_Hor,Sx_Calc,Sy_Calc,Sz_Calc))\n",
    "    spin_error = [[err.truncErrorSpin(),'Truncation'],[err.limitedModesErrorSpin(),'Limited Modes'],\n",
    "                  [err.extrapolationErrorSpin(),'Extrapolation'],[err.junkErrorSpin(),'Junk Radiation']\n",
    "                  ,[err.downSampleErrorSpin(),'Downsampling']]\n",
    "    mass_error = [[err.truncErrorMass(),'Truncation'],[err.limitedModesErrorMass(),'Limited Modes'],\n",
    "                  [err.extrapolationErrorMass(),'Extrapolation'],[err.junkErrorMass(),'Junk Radiation']\n",
    "                  ,[err.downSampleErrorMass(),'Downsampling']]\n",
    "    spin_error = sorted(spin_error)\n",
    "    mass_error = sorted(mass_error)\n",
    "    f.write('%f,%s'%(spin_error[-1][0],spin_error[-1][1]))\n",
    "    Remnant_Mass_Hor = sim.metadata.remnant_mass\n",
    "    Remnant_Mass_Calc = err.highResMass()\n",
    "    Max_Error = mass_error[-1][0]\n",
    "    Max_Error_Source = mass_error[-1][1]\n",
    "    f.write('%f,%f,%f,%s'%(Remnant_Mass_Hor,Remnant_Mass_Calc,Max_Error,Max_Error_Source))\n",
    "    \n",
    "    Kick = err.highResKick()\n",
    "    V_trunc = err.truncErrorKick()\n",
    "    V_mode = err.limitedModesErrorKick()\n",
    "    V_extrap = err.extrapolationErrorKick()\n",
    "    V_junk = err.junkErrorKick()\n",
    "    V_downsample = err.downSampleErrorKick()\n",
    "    \n",
    "    \n",
    "    \n",
    "    if V_trunc<0:\n",
    "        Error = V_mode + V_extrap + V_junk + V_downsample\n",
    "        f.write('%f,-,%f,%f,%f,%f,%f'%(V_mode,V_extrap,V_junk,V_downsample,Kick,Error))\n",
    "    else:\n",
    "        Error = V_trunc + V_mode + V_extrap + V_junk + V_downsample\n",
    "        f.write('%f,%f,%f,%f,%f,%f,%f'%(V_mode,V_trunc,V_extrap,V_junk,V_downsample,Kick,Error))\n",
    "    f.write('\\n')\n",
    "    print('Done: '+path)\n",
    "f.close()\n",
    "    "
   ]
  },
  {
   "cell_type": "code",
   "execution_count": 4,
   "metadata": {
    "collapsed": false
   },
   "outputs": [
    {
     "name": "stdout",
     "output_type": "stream",
     "text": [
      "0.00\n"
     ]
    }
   ],
   "source": [
    "print(\"%0.2f\"%(0))"
   ]
  },
  {
   "cell_type": "code",
   "execution_count": 3,
   "metadata": {
    "collapsed": true
   },
   "outputs": [],
   "source": [
    "f.close()"
   ]
  },
  {
   "cell_type": "code",
   "execution_count": null,
   "metadata": {
    "collapsed": true
   },
   "outputs": [],
   "source": []
  }
 ],
 "metadata": {
  "kernelspec": {
   "display_name": "Python 2",
   "language": "python",
   "name": "python2"
  },
  "language_info": {
   "codemirror_mode": {
    "name": "ipython",
    "version": 2
   },
   "file_extension": ".py",
   "mimetype": "text/x-python",
   "name": "python",
   "nbconvert_exporter": "python",
   "pygments_lexer": "ipython2",
   "version": "2.7.11"
  }
 },
 "nbformat": 4,
 "nbformat_minor": 0
}
