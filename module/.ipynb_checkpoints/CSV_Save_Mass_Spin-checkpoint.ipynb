{
 "cells": [
  {
   "cell_type": "code",
   "execution_count": 1,
   "metadata": {
    "collapsed": false
   },
   "outputs": [],
   "source": [
    "import numpy as np\n",
    "import os\n",
    "import errors\n",
    "import simulation_data as sd\n",
    "import remnant_quantities as rq\n",
    "\n",
    "main_path = '../../Data/'\n",
    "directory = 'Extrapolated_N2.dir'\n",
    "data = []\n",
    "data = os.walk(main_path).next()[1]\n",
    "err = errors.Error('../../Data/011',directory)\n"
   ]
  },
  {
   "cell_type": "code",
   "execution_count": 2,
   "metadata": {
    "collapsed": false
   },
   "outputs": [
    {
     "name": "stdout",
     "output_type": "stream",
     "text": [
      "Done: ../../Data/001\n",
      "Done: ../../Data/002\n",
      "Done: ../../Data/003\n",
      "Done: ../../Data/004\n",
      "Done: ../../Data/005\n",
      "Done: ../../Data/006\n"
     ]
    },
    {
     "ename": "KeyboardInterrupt",
     "evalue": "",
     "output_type": "error",
     "traceback": [
      "\u001b[1;31m---------------------------------------------------------------------------\u001b[0m",
      "\u001b[1;31mKeyboardInterrupt\u001b[0m                         Traceback (most recent call last)",
      "\u001b[1;32m<ipython-input-2-9b7a938264e6>\u001b[0m in \u001b[0;36m<module>\u001b[1;34m()\u001b[0m\n\u001b[0;32m     41\u001b[0m \u001b[1;33m\u001b[0m\u001b[0m\n\u001b[0;32m     42\u001b[0m     mass_error = [[err.truncErrorMass(),'Truncation'],[err.limitedModesErrorMass(),'Limited Modes'],\n\u001b[1;32m---> 43\u001b[1;33m                   \u001b[1;33m[\u001b[0m\u001b[0merr\u001b[0m\u001b[1;33m.\u001b[0m\u001b[0mextrapolationErrorMass\u001b[0m\u001b[1;33m(\u001b[0m\u001b[1;33m)\u001b[0m\u001b[1;33m,\u001b[0m\u001b[1;34m'Extrapolation'\u001b[0m\u001b[1;33m]\u001b[0m\u001b[1;33m,\u001b[0m\u001b[1;33m[\u001b[0m\u001b[0merr\u001b[0m\u001b[1;33m.\u001b[0m\u001b[0mjunkErrorMass\u001b[0m\u001b[1;33m(\u001b[0m\u001b[1;33m)\u001b[0m\u001b[1;33m,\u001b[0m\u001b[1;34m'Junk Radiation'\u001b[0m\u001b[1;33m]\u001b[0m\u001b[1;33m\u001b[0m\u001b[0m\n\u001b[0m\u001b[0;32m     44\u001b[0m                   ,[err.downSampleErrorMass(),'Downsampling']]\n\u001b[0;32m     45\u001b[0m     \u001b[0mtotal_mass_error\u001b[0m \u001b[1;33m=\u001b[0m \u001b[0mrq\u001b[0m\u001b[1;33m.\u001b[0m\u001b[0merrorQuadrature\u001b[0m\u001b[1;33m(\u001b[0m\u001b[0mmass_error\u001b[0m\u001b[1;33m)\u001b[0m\u001b[1;33m\u001b[0m\u001b[0m\n",
      "\u001b[1;32m/mnt/C2AEAD4BAEAD38B5/Kick Velocity Project/codes/module/errors.pyc\u001b[0m in \u001b[0;36mjunkErrorMass\u001b[1;34m(self)\u001b[0m\n\u001b[0;32m    139\u001b[0m                 \u001b[1;32mreturn\u001b[0m \u001b[0merror\u001b[0m\u001b[1;33m\u001b[0m\u001b[0m\n\u001b[0;32m    140\u001b[0m         \u001b[1;32mdef\u001b[0m \u001b[0mjunkErrorMass\u001b[0m\u001b[1;33m(\u001b[0m\u001b[0mself\u001b[0m\u001b[1;33m)\u001b[0m\u001b[1;33m:\u001b[0m\u001b[1;33m\u001b[0m\u001b[0m\n\u001b[1;32m--> 141\u001b[1;33m                 \u001b[0msimulation2\u001b[0m \u001b[1;33m=\u001b[0m \u001b[0mself\u001b[0m\u001b[1;33m.\u001b[0m\u001b[0mgetRelaxedTimeSimulation\u001b[0m\u001b[1;33m(\u001b[0m\u001b[1;33m)\u001b[0m\u001b[1;33m\u001b[0m\u001b[0m\n\u001b[0m\u001b[0;32m    142\u001b[0m                 \u001b[0mmass2\u001b[0m \u001b[1;33m=\u001b[0m \u001b[0mrq\u001b[0m\u001b[1;33m.\u001b[0m\u001b[0mgetRemnantMass\u001b[0m\u001b[1;33m(\u001b[0m\u001b[0msimulation2\u001b[0m\u001b[1;33m)\u001b[0m\u001b[1;33m\u001b[0m\u001b[0m\n\u001b[0;32m    143\u001b[0m                 \u001b[0merror\u001b[0m \u001b[1;33m=\u001b[0m \u001b[0mnp\u001b[0m\u001b[1;33m.\u001b[0m\u001b[0mabs\u001b[0m\u001b[1;33m(\u001b[0m\u001b[0mself\u001b[0m\u001b[1;33m.\u001b[0m\u001b[0mmass\u001b[0m \u001b[1;33m-\u001b[0m \u001b[0mmass2\u001b[0m\u001b[1;33m)\u001b[0m\u001b[1;33m\u001b[0m\u001b[0m\n",
      "\u001b[1;32m/mnt/C2AEAD4BAEAD38B5/Kick Velocity Project/codes/module/errors.pyc\u001b[0m in \u001b[0;36mgetRelaxedTimeSimulation\u001b[1;34m(self)\u001b[0m\n\u001b[0;32m     64\u001b[0m         \u001b[1;32mdef\u001b[0m \u001b[0mgetRelaxedTimeSimulation\u001b[0m\u001b[1;33m(\u001b[0m\u001b[0mself\u001b[0m\u001b[1;33m)\u001b[0m\u001b[1;33m:\u001b[0m\u001b[1;33m\u001b[0m\u001b[0m\n\u001b[0;32m     65\u001b[0m                 \u001b[1;34m\"\"\"Returns the simulation with relaxed time to get rid of junk radiation\"\"\"\u001b[0m\u001b[1;33m\u001b[0m\u001b[0m\n\u001b[1;32m---> 66\u001b[1;33m                 \u001b[1;32mreturn\u001b[0m \u001b[0msm\u001b[0m\u001b[1;33m.\u001b[0m\u001b[0mSimulation\u001b[0m\u001b[1;33m(\u001b[0m\u001b[0mself\u001b[0m\u001b[1;33m.\u001b[0m\u001b[0mnew_path\u001b[0m\u001b[1;33m,\u001b[0m\u001b[0mself\u001b[0m\u001b[1;33m.\u001b[0m\u001b[0mdirectory\u001b[0m\u001b[1;33m,\u001b[0m\u001b[0mrelaxed\u001b[0m \u001b[1;33m=\u001b[0m \u001b[0mTrue\u001b[0m\u001b[1;33m)\u001b[0m\u001b[1;33m\u001b[0m\u001b[0m\n\u001b[0m\u001b[0;32m     67\u001b[0m         \u001b[1;32mdef\u001b[0m \u001b[0mgetDownsampledSimulation\u001b[0m\u001b[1;33m(\u001b[0m\u001b[0mself\u001b[0m\u001b[1;33m)\u001b[0m\u001b[1;33m:\u001b[0m\u001b[1;33m\u001b[0m\u001b[0m\n\u001b[0;32m     68\u001b[0m                 \u001b[1;34m\"\"\"Downsamples the data by 2 to estimate errors due to numerical routines\"\"\"\u001b[0m\u001b[1;33m\u001b[0m\u001b[0m\n",
      "\u001b[1;32m/mnt/C2AEAD4BAEAD38B5/Kick Velocity Project/codes/module/simulation_data.pyc\u001b[0m in \u001b[0;36m__init__\u001b[1;34m(self, path, directory, relaxed, downsample)\u001b[0m\n\u001b[0;32m      9\u001b[0m                 \u001b[0mself\u001b[0m\u001b[1;33m.\u001b[0m\u001b[0mdirectory\u001b[0m \u001b[1;33m=\u001b[0m \u001b[0mdirectory\u001b[0m\u001b[1;33m\u001b[0m\u001b[0m\n\u001b[0;32m     10\u001b[0m                 \u001b[0mself\u001b[0m\u001b[1;33m.\u001b[0m\u001b[0mmetadata\u001b[0m \u001b[1;33m=\u001b[0m \u001b[0mmetadata\u001b[0m\u001b[1;33m.\u001b[0m\u001b[0mmetadata\u001b[0m\u001b[1;33m(\u001b[0m\u001b[0mpath\u001b[0m\u001b[1;33m)\u001b[0m\u001b[1;33m\u001b[0m\u001b[0m\n\u001b[1;32m---> 11\u001b[1;33m                 \u001b[0mself\u001b[0m\u001b[1;33m.\u001b[0m\u001b[0mEvaluate\u001b[0m\u001b[1;33m(\u001b[0m\u001b[0mrelaxed\u001b[0m\u001b[1;33m,\u001b[0m\u001b[0mdownsample\u001b[0m\u001b[1;33m)\u001b[0m\u001b[1;33m\u001b[0m\u001b[0m\n\u001b[0m\u001b[0;32m     12\u001b[0m         \u001b[1;32mdef\u001b[0m \u001b[0mALM\u001b[0m\u001b[1;33m(\u001b[0m\u001b[0mself\u001b[0m\u001b[1;33m,\u001b[0m\u001b[0ml\u001b[0m\u001b[1;33m,\u001b[0m\u001b[0mm\u001b[0m\u001b[1;33m)\u001b[0m\u001b[1;33m:\u001b[0m\u001b[1;33m\u001b[0m\u001b[0m\n\u001b[0;32m     13\u001b[0m                 \u001b[1;32mif\u001b[0m \u001b[0mm\u001b[0m\u001b[1;33m>\u001b[0m\u001b[0ml\u001b[0m \u001b[1;32mor\u001b[0m \u001b[0mm\u001b[0m\u001b[1;33m<\u001b[0m\u001b[1;33m-\u001b[0m\u001b[0ml\u001b[0m \u001b[1;32mor\u001b[0m \u001b[0ml\u001b[0m\u001b[1;33m<\u001b[0m\u001b[1;36m2\u001b[0m \u001b[1;32mor\u001b[0m \u001b[0ml\u001b[0m\u001b[1;33m>\u001b[0m\u001b[1;36m8\u001b[0m\u001b[1;33m:\u001b[0m\u001b[1;33m\u001b[0m\u001b[0m\n",
      "\u001b[1;32m/mnt/C2AEAD4BAEAD38B5/Kick Velocity Project/codes/module/simulation_data.pyc\u001b[0m in \u001b[0;36mEvaluate\u001b[1;34m(self, relaxed, downsample)\u001b[0m\n\u001b[0;32m     35\u001b[0m                                 \u001b[0mSXS\u001b[0m \u001b[1;33m=\u001b[0m \u001b[0minput_file1\u001b[0m\u001b[1;33m[\u001b[0m\u001b[0mself\u001b[0m\u001b[1;33m.\u001b[0m\u001b[0mdirectory\u001b[0m\u001b[1;33m]\u001b[0m\u001b[1;33m[\u001b[0m\u001b[1;34m'Y_l%i_m%i.dat'\u001b[0m\u001b[1;33m%\u001b[0m\u001b[1;33m(\u001b[0m\u001b[0ml\u001b[0m\u001b[1;33m,\u001b[0m\u001b[0mm\u001b[0m\u001b[1;33m)\u001b[0m\u001b[1;33m]\u001b[0m\u001b[1;33m\u001b[0m\u001b[0m\n\u001b[0;32m     36\u001b[0m                                 \u001b[0mH\u001b[0m \u001b[1;33m=\u001b[0m \u001b[0mSXS\u001b[0m\u001b[1;33m[\u001b[0m\u001b[1;33m:\u001b[0m\u001b[1;33m,\u001b[0m\u001b[1;36m1\u001b[0m\u001b[1;33m]\u001b[0m\u001b[1;33m+\u001b[0m\u001b[1;33m(\u001b[0m\u001b[1;36m0\u001b[0m\u001b[1;33m+\u001b[0m\u001b[1;36m1j\u001b[0m\u001b[1;33m)\u001b[0m\u001b[1;33m*\u001b[0m\u001b[0mSXS\u001b[0m\u001b[1;33m[\u001b[0m\u001b[1;33m:\u001b[0m\u001b[1;33m,\u001b[0m\u001b[1;36m2\u001b[0m\u001b[1;33m]\u001b[0m\u001b[1;33m\u001b[0m\u001b[0m\n\u001b[1;32m---> 37\u001b[1;33m                                 \u001b[0mt\u001b[0m \u001b[1;33m=\u001b[0m \u001b[0mSXS\u001b[0m\u001b[1;33m[\u001b[0m\u001b[1;33m:\u001b[0m\u001b[1;33m,\u001b[0m\u001b[1;36m0\u001b[0m\u001b[1;33m]\u001b[0m\u001b[1;33m\u001b[0m\u001b[0m\n\u001b[0m\u001b[0;32m     38\u001b[0m                                 \u001b[1;31m#The following will slice the array depending on the Relaxed Time if the relaxed parameter is said to true\u001b[0m\u001b[1;33m\u001b[0m\u001b[1;33m\u001b[0m\u001b[0m\n\u001b[0;32m     39\u001b[0m                                 \u001b[1;32mif\u001b[0m \u001b[0mrelaxed\u001b[0m\u001b[1;33m:\u001b[0m\u001b[1;33m\u001b[0m\u001b[0m\n",
      "\u001b[1;32mh5py/_objects.pyx\u001b[0m in \u001b[0;36mh5py._objects.with_phil.wrapper (-------src-dir-------/h5py/_objects.c:2458)\u001b[1;34m()\u001b[0m\n",
      "\u001b[1;32mh5py/_objects.pyx\u001b[0m in \u001b[0;36mh5py._objects.with_phil.wrapper (-------src-dir-------/h5py/_objects.c:2415)\u001b[1;34m()\u001b[0m\n",
      "\u001b[1;32m/home/rahul/anaconda/lib/python2.7/site-packages/h5py/_hl/dataset.pyc\u001b[0m in \u001b[0;36m__getitem__\u001b[1;34m(self, args)\u001b[0m\n\u001b[0;32m    449\u001b[0m         \u001b[0mmspace\u001b[0m \u001b[1;33m=\u001b[0m \u001b[0mh5s\u001b[0m\u001b[1;33m.\u001b[0m\u001b[0mcreate_simple\u001b[0m\u001b[1;33m(\u001b[0m\u001b[0mmshape\u001b[0m\u001b[1;33m)\u001b[0m\u001b[1;33m\u001b[0m\u001b[0m\n\u001b[0;32m    450\u001b[0m         \u001b[0mfspace\u001b[0m \u001b[1;33m=\u001b[0m \u001b[0mselection\u001b[0m\u001b[1;33m.\u001b[0m\u001b[0m_id\u001b[0m\u001b[1;33m\u001b[0m\u001b[0m\n\u001b[1;32m--> 451\u001b[1;33m         \u001b[0mself\u001b[0m\u001b[1;33m.\u001b[0m\u001b[0mid\u001b[0m\u001b[1;33m.\u001b[0m\u001b[0mread\u001b[0m\u001b[1;33m(\u001b[0m\u001b[0mmspace\u001b[0m\u001b[1;33m,\u001b[0m \u001b[0mfspace\u001b[0m\u001b[1;33m,\u001b[0m \u001b[0marr\u001b[0m\u001b[1;33m,\u001b[0m \u001b[0mmtype\u001b[0m\u001b[1;33m)\u001b[0m\u001b[1;33m\u001b[0m\u001b[0m\n\u001b[0m\u001b[0;32m    452\u001b[0m \u001b[1;33m\u001b[0m\u001b[0m\n\u001b[0;32m    453\u001b[0m         \u001b[1;31m# Patch up the output for NumPy\u001b[0m\u001b[1;33m\u001b[0m\u001b[1;33m\u001b[0m\u001b[0m\n",
      "\u001b[1;31mKeyboardInterrupt\u001b[0m: "
     ]
    }
   ],
   "source": [
    "f = open('data4.csv','w')\n",
    "f.write('Name,Alt_name,q,S1x,S1y,S1z,S2x,S2y,S2z,relaxed_eccentricity,no_of_orbits,More_than_one_res,')\n",
    "f.write('Remnant_spin_hor,Calculated_Spin,Deviation_from_Horizon,Error_Estimate,Max_Error(Magnitutde),Max_Error_Source,')\n",
    "f.write('Remnant_Mass_Hor,Remnant_Mass_Calc,Deviation_from_Horizon,Error_Estimate,Max_Error,')\n",
    "f.write('Max_Error_Source,Kick(km/s),Total_Error(km/s),Max_Error,Max_Error_Source,')\n",
    "f.write('V_mode(km/s),V_trunc(km/s),V_extrap(km/s),V_junk(km/s),V_downsample(km/s)\\n')\n",
    "for file in data:\n",
    "    path = main_path + file\n",
    "    err = errors.Error(path,directory)\n",
    "    sim = err.getHighResSim()\n",
    "    Name = sim.metadata.simulation_name\n",
    "    Alt_name = sim.metadata.alt_name\n",
    "    q = sim.metadata.initial_mass1/sim.metadata.initial_mass2\n",
    "    S1 = sim.metadata.initial_spin1\n",
    "    S2 = sim.metadata.initial_spin2\n",
    "    \n",
    "    Remnant_spin_hor = rq.norm(sim.metadata.remnant_spin)\n",
    "    \n",
    "    S1x = S1[0]\n",
    "    S1y = S1[1]\n",
    "    S1z = S1[2]\n",
    "    S2x = S2[0]\n",
    "    S2y = S2[1]\n",
    "    S2z = S2[2]\n",
    "    relaxed_eccentricity = sim.metadata.relaxed_eccentricity\n",
    "    no_of_orbits = sim.metadata.no_of_orbits\n",
    "    Calculated_Spin = rq.norm(rq.getRemnantSpinComponents(sim))\n",
    "    More_than_one_res = err.isMoreThanOneRes()\n",
    "    \n",
    "    deviation_spin = rq.deviation(Remnant_spin_hor,Calculated_Spin)\n",
    "    \n",
    "    \n",
    "    f.write('%s,%s,%0.3f,%0.4f,%0.4f,%0.4f,%0.4f,%0.4f,%0.4f,%0.4f,%0.4f,%r,'%(Name,Alt_name,q,S1x,S1y,S1z,S2x,S2y,S2z,\n",
    "                                                                            relaxed_eccentricity,no_of_orbits,More_than_one_res))\n",
    "    \n",
    "    \n",
    "    spin_error = [[err.truncErrorSpin(),'Truncation'],[err.limitedModesErrorSpin(),'Limited Modes'],\n",
    "                  [err.extrapolationErrorSpin(),'Extrapolation'],[err.junkErrorSpin(),'Junk Radiation']\n",
    "                  ,[err.downSampleErrorSpin(),'Downsampling']]\n",
    "    total_spin_error = rq.errorQuadrature(spin_error)\n",
    "    \n",
    "    mass_error = [[err.truncErrorMass(),'Truncation'],[err.limitedModesErrorMass(),'Limited Modes'],\n",
    "                  [err.extrapolationErrorMass(),'Extrapolation'],[err.junkErrorMass(),'Junk Radiation']\n",
    "                  ,[err.downSampleErrorMass(),'Downsampling']]\n",
    "    total_mass_error = rq.errorQuadrature(mass_error)\n",
    "    \n",
    "    kick_error = [[err.truncErrorKick(),'Truncation'],[err.limitedModesErrorKick(),'Limited Modes'],\n",
    "                  [err.extrapolationErrorKick(),'Extrapolation'],[err.junkErrorKick(),'Junk Radiation']\n",
    "                  ,[err.downSampleErrorKick(),'Downsampling']]\n",
    "    total_kick_error = rq.errorQuadrature(kick_error)\n",
    "    \n",
    "    spin_error = sorted(spin_error)\n",
    "    mass_error = sorted(mass_error)\n",
    "    kick_error = sorted(kick_error)\n",
    "    f.write('%0.4f,%0.4f,%0.4f,%0.4f,%0.4f,%s,'%(Remnant_spin_hor,Calculated_Spin,deviation_spin,total_spin_error,\n",
    "                                                spin_error[-1][0],spin_error[-1][1]))\n",
    "    Remnant_Mass_Hor = sim.metadata.remnant_mass\n",
    "    Remnant_Mass_Calc = err.highResMass()\n",
    "    deviation_mass = rq.deviation(Remnant_Mass_Hor,Remnant_Mass_Calc)\n",
    "    \n",
    "    Max_Error = mass_error[-1][0]\n",
    "    Max_Error_Source = mass_error[-1][1]\n",
    "    \n",
    "    f.write('%0.4f,%0.4f,%0.4f,%0.4f,%0.4f,%s,'%(Remnant_Mass_Hor,Remnant_Mass_Calc,deviation_spin,total_spin_error,\n",
    "                                                 Max_Error,Max_Error_Source))\n",
    "    \n",
    "    Kick = err.highResKick()\n",
    "    V_trunc = err.truncErrorKick()\n",
    "    V_mode = err.limitedModesErrorKick()\n",
    "    V_extrap = err.extrapolationErrorKick()\n",
    "    V_junk = err.junkErrorKick()\n",
    "    V_downsample = err.downSampleErrorKick()\n",
    "    \n",
    "    f.write('%f,%f,%f,%s,'%(Kick,total_kick_error,kick_error[-1][0],kick_error[-1][1]))\n",
    "    f.write('%f,%f,%f,%f,%f'%(V_mode,V_trunc,V_extrap,V_junk,V_downsample))\n",
    "    \n",
    "#     if V_trunc<0:\n",
    "#         Error = V_mode + V_extrap + V_junk + V_downsample\n",
    "#         f.write('%f,-,%f,%f,%f,%f,%f'%(V_mode,V_extrap,V_junk,V_downsample,Kick,Error))\n",
    "#     else:\n",
    "#         Error = V_trunc + V_mode + V_extrap + V_junk + V_downsample\n",
    "#         f.write('%f,%f,%f,%f,%f,%f,%f'%(V_mode,V_trunc,V_extrap,V_junk,V_downsample,Kick,Error))\n",
    "    f.write('\\n')\n",
    "    print('Done: '+path)\n",
    "f.close()\n",
    "    "
   ]
  },
  {
   "cell_type": "code",
   "execution_count": null,
   "metadata": {
    "collapsed": false
   },
   "outputs": [],
   "source": [
    "print(\"%0.2f\"%(0))"
   ]
  },
  {
   "cell_type": "code",
   "execution_count": 3,
   "metadata": {
    "collapsed": true
   },
   "outputs": [],
   "source": [
    "f.close()"
   ]
  },
  {
   "cell_type": "code",
   "execution_count": null,
   "metadata": {
    "collapsed": true
   },
   "outputs": [],
   "source": []
  }
 ],
 "metadata": {
  "kernelspec": {
   "display_name": "Python 2",
   "language": "python",
   "name": "python2"
  }
 },
 "nbformat": 4,
 "nbformat_minor": 0
}
