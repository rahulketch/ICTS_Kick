{
 "cells": [
  {
   "cell_type": "code",
   "execution_count": 14,
   "metadata": {
    "collapsed": false
   },
   "outputs": [],
   "source": [
    "%matplotlib inline\n",
    "import numpy as np\n",
    "import matplotlib.pyplot as plt\n",
    "import h5py\n",
    "import remnant_quantities as rm\n",
    "import simulation_data as sd\n",
    "import kick_Error\n",
    "import os\n",
    "speed_of_light = 299792.458\n",
    "savefig = False\n",
    "path = '../../Data/181'#path for the simulation\n",
    "path2 = path + '/Lev4/'\n",
    "extrapolation_order = 2\n",
    "directory = 'Extrapolated_N%i.dir'%(extrapolation_order)\n",
    "#A  = harmonics.Simulation(path,'Extrapolated_N%i.dir'%(extrapolation_order))\n",
    "\n",
    "    "
   ]
  },
  {
   "cell_type": "code",
   "execution_count": 15,
   "metadata": {
    "collapsed": false
   },
   "outputs": [
    {
     "name": "stdout",
     "output_type": "stream",
     "text": [
      "(116.57504595651538, 116.12808524113994, 114.6676665438624)\n",
      "(116.57504595651538, 0.44696071537543958)\n",
      "(18671, 4667)\n",
      "0.953745059996\n",
      "977.08586495\n",
      "[ -3.90358638e-04-0.00095532j  -3.92739681e-04-0.00094884j\n",
      "  -3.95012342e-04-0.00094239j ...,  -5.33179860e-05+0.00079336j\n",
      "  -5.33033353e-05+0.00079348j  -5.32915534e-05+0.00079359j]\n"
     ]
    }
   ],
   "source": [
    "Total_Kick = kick_Error.highResKick(path,'Extrapolated_N%i.dir'%(extrapolation_order))\n",
    "\n",
    "#error = kick_Error.truncError(path,'Extrapolated_N%i.dir'%(extrapolation_order))\n",
    "#error = kick_Error.limitedModesError(path,'Extrapolated_N%i.dir'%(extrapolation_order))\n",
    "error = kick_Error.extrapolationError(path,directory)\n",
    "error = kick_Error.junkError(path,directory)\n",
    "error = kick_Error.downSampleError(path,directory)\n",
    "\n",
    "print(Total_Kick,error)\n",
    "sim1 = sd.Simulation(path2,directory)\n",
    "sim2 = sd.Simulation(path2,directory,False,4)\n",
    "print(len(sim1.H2[2][2]),len(sim2.H2[2][2]))\n",
    "print(rm.getRemnantMass(sim))\n",
    "print(rm.getKick(sim))\n",
    "print(sim.Hcomp(2,2))"
   ]
  },
  {
   "cell_type": "code",
   "execution_count": null,
   "metadata": {
    "collapsed": false
   },
   "outputs": [],
   "source": [
    "\n",
    "\n",
    "\n"
   ]
  },
  {
   "cell_type": "code",
   "execution_count": null,
   "metadata": {
    "collapsed": true
   },
   "outputs": [],
   "source": []
  },
  {
   "cell_type": "code",
   "execution_count": null,
   "metadata": {
    "collapsed": true
   },
   "outputs": [],
   "source": []
  }
 ],
 "metadata": {
  "kernelspec": {
   "display_name": "Python 2",
   "language": "python",
   "name": "python2"
  },
  "language_info": {
   "codemirror_mode": {
    "name": "ipython",
    "version": 2
   },
   "file_extension": ".py",
   "mimetype": "text/x-python",
   "name": "python",
   "nbconvert_exporter": "python",
   "pygments_lexer": "ipython2",
   "version": "2.7.11"
  }
 },
 "nbformat": 4,
 "nbformat_minor": 0
}
