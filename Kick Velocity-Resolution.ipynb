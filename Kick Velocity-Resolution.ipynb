{
 "cells": [
  {
   "cell_type": "code",
   "execution_count": 38,
   "metadata": {
    "collapsed": false
   },
   "outputs": [],
   "source": [
    "%matplotlib inline\n",
    "import numpy as np\n",
    "import matplotlib.pyplot as plt\n",
    "import h5py\n",
    "import my_functions as mf\n",
    "savefig = True\n",
    "speed_of_light = 299792.458\n",
    "path2 = '../Data/011/Lev' #path for the simulation\n",
    "resolutions = range(2,7)\n",
    "extrapolation_order = 2\n",
    "\n",
    "def ALM(l,m):\n",
    "    #print(\"lol\",l,m)\n",
    "    if m>l or m<-l or l<2 or l>8:\n",
    "        return 0\n",
    "    return alm[l-2][m+l]\n",
    "def Hcomp(l,m):\n",
    "    if m>l or m<-l or l<2 or l>8:\n",
    "        return 0\n",
    "    return H2[l-2][m+l]\n",
    "def norm(vector):\n",
    "    return np.sqrt(vector[0]*vector[0]+vector[1]*vector[1]+vector[2]*vector[2])\n",
    "\n",
    "#The following are coefficients used in calculations of radiated angular and linear momentum       \n",
    "def f(l,m):\n",
    "    return np.sqrt((l-m)*(l+m+1))\n",
    "def a(l,m):\n",
    "    return np.sqrt((1.0+0j)*(l-m)*(l+m+1.0))/(l*(l+1.0))\n",
    "def b(l,m):\n",
    "    return (np.sqrt((1+0j)*(l-2.0)*(l+2.0)*(l+m)*(l+m-1.0)/(2.0*l-1.0)/(2.0*l+1.0)))/(2.0*l)\n",
    "def c(l,m):\n",
    "    return 2.0*m/(l*(l+1.0))\n",
    "def d(l,m):\n",
    "    return (np.sqrt((1.0+0j)*(l-2.0)*(l+2.0)*(l-m)*(l+m)/(2.0*l-1.0)/(2.0*l+1)))/l\n",
    "\n",
    "meta = open(path+'metadata.txt','r')\n",
    "for line in meta:\n",
    "    line = line.translate(None,\",\")\n",
    "    line = line.split()\n",
    "    if(len(line)<2):\n",
    "        continue;\n",
    "    var = line[0].translate(None,\" \")\n",
    "    if var == 'initial-ADM-energy':\n",
    "        initial_mass = float(line[2])\n",
    "    if var == 'initial-ADM-linear-momentum':\n",
    "        initial_p = np.array([float(line[2]),float(line[3]),float(line[4])])\n",
    "    if var == 'initial-ADM-angular-momentum':\n",
    "        initial_j = np.array([float(line[2]),float(line[3]),float(line[4])])\n",
    "    if var == 'remnant-mass':\n",
    "        remnant_mass = float(line[2])\n",
    "    if var == 'remnant-spin':\n",
    "        remnant_spin = np.array([float(line[2]),float(line[3]),float(line[4])])\n",
    "    if var == 'initial-mass1':\n",
    "        initial_mass1 = float(line[2])\n",
    "    if var == 'initial-mass2':\n",
    "        initial_mass2 = float(line[2])\n",
    "    if var == 'initial-spin1':\n",
    "        initial_spin1 = np.array([float(line[2]),float(line[3]),float(line[4])])\n",
    "    if var == 'initial-spin2':\n",
    "        initial_spin2 = np.array([float(line[2]),float(line[3]),float(line[4])])\n",
    "    if var == 'alternative-names':\n",
    "         alt_name = line[2]\n",
    "    if var == 'simulation-name':\n",
    "         simulation_name= line[2] \n",
    "\n",
    "\n",
    "    "
   ]
  },
  {
   "cell_type": "code",
   "execution_count": 39,
   "metadata": {
    "collapsed": false
   },
   "outputs": [],
   "source": [
    "res_kick = []\n",
    "for lev in resolutions:\n",
    "    path = path2 + '{}/'.format(lev)\n",
    "    alm = []\n",
    "    H2 = []\n",
    "\n",
    "    input_file1 = h5py.File(path+'rhOverM_Asymptotic_GeometricUnits.h5','r')\n",
    "    SXS = input_file1['Extrapolated_N%i.dir'%(extrapolation_order)]['Y_l%i_m%i.dat'%(2,-1)]\n",
    "    t = SXS[:,0]\n",
    "    dt = np.diff(t)\n",
    "    #Calculates the H and Hdots to be used for further analysis.\n",
    "    for l in range(2,9):\n",
    "        alm.append([])\n",
    "        H2.append([])\n",
    "        for m in range(-l,l+1):\n",
    "            SXS = input_file1['Extrapolated_N2.dir']['Y_l%i_m%i.dat'%(l,m)]\n",
    "            H = SXS[:,1]+(0+1j)*SXS[:,2]\n",
    "            t = SXS[:,0]\n",
    "            Hdot = np.diff(H)/np.diff(t)\n",
    "            alm[l-2].append(Hdot)\n",
    "            H2[l-2].append(H[1:])     \n",
    "\n",
    "    dp_plus = (0+0j)*(dt)\n",
    "    dp_z = dp_plus\n",
    "    for l in range(2,9):\n",
    "        for m in range(-l,l+1):\n",
    "            dp_plus = dp_plus+ALM(l,m)*(a(l,m)*np.conj(ALM(l,m+1)) + b(l,-m)*np.conj(ALM(l-1,m+1)) - b(l+1,m+1)*np.conj(ALM(l+1,m+1)))\n",
    "            dp_z = dp_z + ALM(l,m)*(c(l,m)*np.conj(ALM(l,m)) + d(l,m)*np.conj(ALM(l-1,m)) + d(l+1,m)*np.conj(ALM(l+1,m)))\n",
    "    p_plus = np.cumsum(dp_plus*dt)/(8*np.pi)\n",
    "    PZ = np.real(np.cumsum(dp_z*dt)/(16*np.pi))\n",
    "    PX = np.real(p_plus)\n",
    "    PY = np.imag(p_plus)\n",
    "    P = np.array([PX,PY,PZ])\n",
    "    Total_P = norm(P)\n",
    "    Radiated_P = np.array([PX[-1],PY[-1],PZ[-1]])\n",
    "    Total_Radiated_P = norm(Radiated_P)\n",
    "    Kick = -1 * Radiated_P/remnant_mass * speed_of_light\n",
    "    Total_Kick = norm(Kick)\n",
    "    res_kick.append([lev,Total_Kick])\n",
    "res_kick = np.array(res_kick)\n",
    "    "
   ]
  },
  {
   "cell_type": "code",
   "execution_count": 40,
   "metadata": {
    "collapsed": false
   },
   "outputs": [
    {
     "name": "stdout",
     "output_type": "stream",
     "text": [
      "2.0|713.444025806 km/s |15.0558805133%\n",
      "3.0|650.123072856 km/s |4.84422026656%\n",
      "4.0|625.382008232 km/s |0.854271690195%\n",
      "5.0|617.944246414 km/s |0.345203256884%\n",
      "6.0|620.084799337 km/s |0.0%\n",
      "Mass Ratio: 1.5\n",
      "Initial Spin1: [  9.00000000e-02  -6.68541600e-12   1.55884680e-01]\n",
      "Initial Spin2: [  7.02889600e-12  -2.18493920e-11   6.23164832e-10]\n",
      "Final Kick of Blackhole Calculated : [   9.05243651   59.02612647 -617.20266376]\n",
      "Final Speed of the Blackhole: 620.084799337 km/s\n"
     ]
    },
    {
     "data": {
      "image/png": "[encoded data removed]",
      "text/plain": [
       "<matplotlib.figure.Figure at 0x7fb6ea9c4990>"
      ]
     },
     "metadata": {},
     "output_type": "display_data"
    }
   ],
   "source": [
    "final_kick = res_kick[-1][1]\n",
    "deviation = mf.error(res_kick[:,1],final_kick)\n",
    "for lev in res_kick:\n",
    "    #print(\"l:{} kick:{} km/s deviation: {}%\".format(l[0],l[1],mf.error(total_kick,l[1]))) \n",
    "    print(\"{}|{} km/s |{}%\".format(lev[0],lev[1],mf.error(final_kick,lev[1]))) \n",
    "    \n",
    "print(\"Mass Ratio: {}\".format(initial_mass1/initial_mass2))\n",
    "print(\"Initial Spin1: {}\".format(initial_spin1))\n",
    "print(\"Initial Spin2: {}\".format(initial_spin2))\n",
    "print(\"Final Kick of Blackhole Calculated : {}\".format(Kick))\n",
    "print(\"Final Speed of the Blackhole: {} km/s\".format(Total_Kick))\n",
    "\n",
    "plt.figure(1)\n",
    "plt.xlabel(\"Resolution Level\")\n",
    "plt.ylabel(\"Deviation from final resolution in %\")\n",
    "plt.plot(res_kick[:,0],deviation,'ro')\n",
    "plt.title(simulation_name)\n",
    "plt.xlim(0,10)\n",
    "#plt.ylim(-0.001)\n",
    "if(savefig):\n",
    "    plt.savefig('images/'+alt_name +'_v_res')\n",
    "plt.show()\n",
    "\n",
    "\n",
    "\n"
   ]
  },
  {
   "cell_type": "code",
   "execution_count": 41,
   "metadata": {
    "collapsed": false
   },
   "outputs": [
    {
     "data": {
      "text/plain": [
       "array([[   2.        ,  713.44402581],\n",
       "       [   3.        ,  650.12307286],\n",
       "       [   4.        ,  625.38200823],\n",
       "       [   5.        ,  617.94424641],\n",
       "       [   6.        ,  620.08479934]])"
      ]
     },
     "execution_count": 41,
     "metadata": {},
     "output_type": "execute_result"
    }
   ],
   "source": [
    "res_kick"
   ]
  },
  {
   "cell_type": "code",
   "execution_count": null,
   "metadata": {
    "collapsed": true
   },
   "outputs": [],
   "source": []
  }
 ],
 "metadata": {
  "kernelspec": {
   "display_name": "Python 2",
   "language": "python",
   "name": "python2"
  },
  "language_info": {
   "codemirror_mode": {
    "name": "ipython",
    "version": 2
   },
   "file_extension": ".py",
   "mimetype": "text/x-python",
   "name": "python",
   "nbconvert_exporter": "python",
   "pygments_lexer": "ipython2",
   "version": "2.7.11"
  }
 },
 "nbformat": 4,
 "nbformat_minor": 0
}
