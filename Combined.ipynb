{
 "cells": [
  {
   "cell_type": "code",
   "execution_count": 20,
   "metadata": {
    "collapsed": false
   },
   "outputs": [],
   "source": [
    "import numpy as np\n",
    "import matplotlib.pyplot as plt\n",
    "import h5py\n",
    "\n",
    "path = '../Data/006/Lev5/' #path for the simulation\n",
    "extrapolation_order = 2\n",
    "\n",
    "alm = []\n",
    "H2 = []\n",
    "\n",
    "input_file1 = h5py.File(path+'rhOverM_Asymptotic_GeometricUnits.h5','r')\n",
    "SXS = input_file1['Extrapolated_N%i.dir'%(extrapolation_order)]['Y_l%i_m%i.dat'%(2,-1)]\n",
    "t = SXS[:,0]\n",
    "dt = np.diff(t)\n",
    "\n",
    "def ALM(l,m):\n",
    "    #print(\"lol\",l,m)\n",
    "    if m>l or m<-l or l<2 or l>8:\n",
    "        return 0\n",
    "    return alm[l-2][m+l]\n",
    "def Hcomp(l,m):\n",
    "    if m>l or m<-l or l<2 or l>8:\n",
    "        return 0\n",
    "    return H2[l-2][m+l]\n",
    "\n",
    "meta = open(path+'metadata.txt','r')\n",
    "for line in meta:\n",
    "    line = line.translate(None,\",\")\n",
    "    line = line.split()\n",
    "    if(len(line)<2):\n",
    "        continue;\n",
    "    var = line[0].translate(None,\" \")\n",
    "    if var == 'initial-ADM-energy':\n",
    "        initial_mass = float(line[2])\n",
    "    if var == 'initial-ADM-linear-momentum':\n",
    "        initial_p = np.array([float(line[2]),float(line[3]),float(line[4])])\n",
    "    if var == 'initial-ADM-angular-momentum':\n",
    "        initial_j = np.array([float(line[2]),float(line[3]),float(line[4])])\n",
    "    if var == 'remnant-mass':\n",
    "        remnant_mass = float(line[2])\n",
    "    if var == 'remnant-spin':\n",
    "        remnant_spin = np.array([float(line[2]),float(line[3]),float(line[4])])\n",
    "\n",
    "for l in range(2,9):\n",
    "    alm.append([])\n",
    "    H2.append([])\n",
    "    for m in range(-l,l+1):\n",
    "        SXS = input_file1['Extrapolated_N%i.dir'%(extrapolation_order)]['Y_l%i_m%i.dat'%(l,m)]\n",
    "        H = SXS[:,1]+(0+1j)*SXS[:,2]\n",
    "        t = SXS[:,0]\n",
    "        Hdot = np.diff(H)/np.diff(t)\n",
    "        alm[l-2].append(Hdot)\n",
    "        H2[l-2].append(H[1:])\n",
    "        \n",
    "#The following are coefficients used in calculations of radiated angular and linear momentum       \n",
    "def f(l,m):\n",
    "    return np.sqrt((l-m)*(l+m+1))\n",
    "def a(l,m):\n",
    "    return np.sqrt((1.0+0j)*(l-m)*(l+m+1.0))/(l*(l+1.0))\n",
    "def b(l,m):\n",
    "    return (np.sqrt((1+0j)*(l-2.0)*(l+2.0)*(l+m)*(l+m-1.0)/(2.0*l-1.0)/(2.0*l+1.0)))/(2.0*l)\n",
    "def c(l,m):\n",
    "    return 2.0*m/(l*(l+1.0))\n",
    "def d(l,m):\n",
    "    return (np.sqrt((1.0+0j)*(l-2.0)*(l+2.0)*(l-m)*(l+m)/(2.0*l-1.0)/(2.0*l+1)))/l\n",
    "\n",
    "for l in range(2,9):\n",
    "    alm.append([])\n",
    "    H2.append([])\n",
    "    for m in range(-l,l+1):\n",
    "        SXS = input_file1['Extrapolated_N2.dir']['Y_l%i_m%i.dat'%(l,m)]\n",
    "        H = SXS[:,1]+(0+1j)*SXS[:,2]\n",
    "        t = SXS[:,0]\n",
    "        Hdot = np.diff(H)/np.diff(t)\n",
    "        alm[l-2].append(Hdot)\n",
    "        H2[l-2].append(H[1:])\n",
    "\n",
    "\n",
    "\n",
    "        \n",
    "    \n",
    "\n",
    "    "
   ]
  },
  {
   "cell_type": "code",
   "execution_count": 21,
   "metadata": {
    "collapsed": false
   },
   "outputs": [],
   "source": [
    "dp_plus = (0+0j)*(dt)\n",
    "dp_z = dp_plus\n",
    "djx = dp_plus\n",
    "djy = djx\n",
    "djz = djx\n",
    "de = djx\n",
    "for l in range(2,9):\n",
    "    for m in range(-l,l+1):\n",
    "        djx = djx + np.imag(Hcomp(l,m)*(f(l,m)*np.conj(ALM(l,m+1)) + f(l,-m)*np.conj(ALM(l,m-1))))\n",
    "        djy = djy - np.real(Hcomp(l,m)*(f(l,m)*np.conj(ALM(l,m+1)) - f(l,-m)*np.conj(ALM(l,m-1))))\n",
    "        djz = djz + np.imag(m*Hcomp(l,m)*np.conj(ALM(l,m)))\n",
    "        de = de + ALM(l,m)*np.conj(ALM(l,m))\n",
    "        dp_plus = dp_plus+ALM(l,m)*(a(l,m)*np.conj(ALM(l,m+1)) + b(l,-m)*np.conj(ALM(l-1,m+1)) - b(l+1,m+1)*np.conj(ALM(l+1,m+1)))\n",
    "        dp_z = dp_z + ALM(l,m)*(c(l,m)*np.conj(ALM(l,m)) + d(l,m)*np.conj(ALM(l-1,m)) + d(l+1,m)*np.conj(ALM(l+1,m)))"
   ]
  },
  {
   "cell_type": "code",
   "execution_count": 22,
   "metadata": {
    "collapsed": false
   },
   "outputs": [
    {
     "name": "stdout",
     "output_type": "stream",
     "text": [
      "(0.956545323918, (0.95648006344574177+0j), (6.8225175144740865e-05+0j))\n",
      "(array([ 0.04660945,  0.02758132,  0.57907841]), array([ 0.04661495,  0.0275272 ,  0.57943781]))\n",
      "[-0.00011786  0.00196226 -0.00062063]\n",
      "0.000842249550424\n"
     ]
    }
   ],
   "source": [
    "JX = np.cumsum(djx*dt)/(32*np.pi)\n",
    "JY = np.cumsum(djy*dt)/(32*np.pi)\n",
    "JZ = np.cumsum(djz*dt)/(16*np.pi)\n",
    "E = np.cumsum(de*dt)/(16*np.pi)\n",
    "p_plus = np.cumsum(dp_plus*dt)/(8*np.pi)\n",
    "p_z = np.cumsum(dp_z*dt)/(16*np.pi)\n",
    "p_x = np.real(p_plus)\n",
    "p_y = np.imag(p_plus)\n",
    "\n",
    "\n",
    "final_mass = initial_mass - E[-1]\n",
    "print(remnant_mass,final_mass,(remnant_mass-final_mass)/remnant_mass)\n",
    "\n",
    "radiation_spin = np.array([JX[-1],JY[-1],JZ[-1]])\n",
    "final_spin = initial_j - radiation_spin\n",
    "print(remnant_spin,final_spin)\n",
    "print((remnant_spin-final_spin)/remnant_spin)\n",
    "Jsq_init= (remnant_spin[0]*remnant_spin[0]+remnant_spin[1]*remnant_spin[1])\n",
    "Jsq_final = final_spin[0]*final_spin[0]+final_spin[1]*final_spin[1]\n",
    "print((Jsq_init-Jsq_final)/(Jsq_init))"
   ]
  },
  {
   "cell_type": "code",
   "execution_count": null,
   "metadata": {
    "collapsed": true
   },
   "outputs": [],
   "source": []
  }
 ],
 "metadata": {
  "kernelspec": {
   "display_name": "Python 2",
   "language": "python",
   "name": "python2"
  },
  "language_info": {
   "codemirror_mode": {
    "name": "ipython",
    "version": 2
   },
   "file_extension": ".py",
   "mimetype": "text/x-python",
   "name": "python",
   "nbconvert_exporter": "python",
   "pygments_lexer": "ipython2",
   "version": "2.7.11"
  }
 },
 "nbformat": 4,
 "nbformat_minor": 0
}
