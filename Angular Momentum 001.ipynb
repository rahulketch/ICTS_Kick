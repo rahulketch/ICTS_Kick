{
 "cells": [
  {
   "cell_type": "code",
   "execution_count": 49,
   "metadata": {
    "collapsed": false
   },
   "outputs": [],
   "source": [
    "import h5py\n",
    "import matplotlib.pyplot as plt\n",
    "import numpy as np\n",
    "initial_mass = 0.9937363275412056\n",
    "remnant_mass     =  0.951609417715\n",
    "#a= -1.58925e-13,1.181e-13,2.56273174999e-10\n",
    "initial_spin1     =  np.array([0.082242988313 ,0.0394766344682 ,-0.0526355124943])\n",
    "initial_spin2     = np.array([ 0.0181850419292 ,0.00909252094152 ,-0.0181850419402])\n",
    "remnant_spin     =  np.array([-6.60625106334e-10, 6.70538896538e-10, 0.621632567933])\n",
    "initial_j =  np.array([0.0000000427581822,  -0.0000002342625073,   1.1847155663506601])\n",
    "alm = []\n",
    "H2 = []\n",
    "\n",
    "input_file1 = h5py.File('rhOverM_Asymptotic_GeometricUnits.h5','r')\n",
    "SXS = input_file1['Extrapolated_N2.dir']['Y_l%i_m%i.dat'%(2,-1)]\n",
    "t = SXS[:,0]\n",
    "dt = np.diff(t)\n",
    "def f(l,m):\n",
    "    return np.sqrt((l-m)*(l+m+1))\n",
    "def ALM(l,m):\n",
    "    if m>l or m<-l:\n",
    "        return 0\n",
    "    return alm[l-2][m+l]\n",
    "def Hcomp(l,m):\n",
    "    \n",
    "    return H2[l-2][m+l]\n",
    "\n"
   ]
  },
  {
   "cell_type": "code",
   "execution_count": 50,
   "metadata": {
    "collapsed": false
   },
   "outputs": [],
   "source": [
    "\n",
    "for l in range(2,9):\n",
    "    alm.append([])\n",
    "    H2.append([])\n",
    "    for m in range(-l,l+1):\n",
    "        SXS = input_file1['Extrapolated_N2.dir']['Y_l%i_m%i.dat'%(l,m)]\n",
    "        H = SXS[:,1]+(0+1j)*SXS[:,2]\n",
    "        t = SXS[:,0]\n",
    "        Hdot = np.diff(H)/np.diff(t)\n",
    "        alm[l-2].append(Hdot)\n",
    "        H2[l-2].append(H[1:])\n",
    "\n",
    "            \n",
    "\n",
    "\n"
   ]
  },
  {
   "cell_type": "code",
   "execution_count": null,
   "metadata": {
    "collapsed": false
   },
   "outputs": [],
   "source": [
    "\n"
   ]
  },
  {
   "cell_type": "code",
   "execution_count": 51,
   "metadata": {
    "collapsed": false
   },
   "outputs": [],
   "source": [
    "\n",
    "djx = dt*0\n",
    "djy = djx\n",
    "djz = djx\n",
    "de = djx\n",
    "for l in range(2,9):\n",
    "    for m in range(-l,l+1):\n",
    "        djx = djx + np.imag(Hcomp(l,m)*(f(l,m)*np.conj(ALM(l,m+1)) + f(l,-m)*np.conj(ALM(l,m-1))))\n",
    "        djy = djy - np.real(Hcomp(l,m)*(f(l,m)*np.conj(ALM(l,m+1)) - f(l,-m)*np.conj(ALM(l,m-1))))\n",
    "        djz = djz + np.imag(m*Hcomp(l,m)*np.conj(ALM(l,m)))\n",
    "        de = de + ALM(l,m)*np.conj(ALM(l,m))   "
   ]
  },
  {
   "cell_type": "code",
   "execution_count": 52,
   "metadata": {
    "collapsed": false
   },
   "outputs": [
    {
     "name": "stdout",
     "output_type": "stream",
     "text": [
      "(0.951609417715, (0.95165445693454542+0j), (-4.7329522708602253e-05+0j))\n",
      "(array([ -6.60625106e-10,   6.70538897e-10,   6.21632568e-01]), array([  4.26854073e-08,  -2.34565103e-07,   6.22618634e-01]))\n",
      "[  6.56136620e+01   3.50815804e+02  -1.58625220e-03]\n",
      "-64152.2234153\n"
     ]
    }
   ],
   "source": [
    "JX = np.cumsum(djx*dt)/(32*np.pi)\n",
    "JY = np.cumsum(djy*dt)/(32*np.pi)\n",
    "JZ = np.cumsum(djz*dt)/(16*np.pi)\n",
    "E = np.cumsum(de*dt)/(16*np.pi)\n",
    "final_mass = initial_mass - E[-1]\n",
    "print(remnant_mass,final_mass,(remnant_mass-final_mass)/remnant_mass)\n",
    "\n",
    "radiation_spin = np.array([JX[-1],JY[-1],JZ[-1]])\n",
    "final_spin = initial_j - radiation_spin\n",
    "print(remnant_spin,final_spin)\n",
    "print((remnant_spin-final_spin)/remnant_spin)\n",
    "Jsq_init= (remnant_spin[0]*remnant_spin[0]+remnant_spin[1]*remnant_spin[1])\n",
    "Jsq_final = final_spin[0]*final_spin[0]+final_spin[1]*final_spin[1]\n",
    "print((Jsq_init-Jsq_final)/(Jsq_init))"
   ]
  },
  {
   "cell_type": "code",
   "execution_count": 48,
   "metadata": {
    "collapsed": false
   },
   "outputs": [
    {
     "name": "stdout",
     "output_type": "stream",
     "text": [
      "(array([  4.34188073e-08,  -2.34933046e-07,   5.63082998e-01]), array([  7.27748553e-11,   3.02595895e-10,   5.62096932e-01]))\n"
     ]
    }
   ],
   "source": [
    "\n",
    "\n",
    "print(Final_spin2,radiation_spin)"
   ]
  },
  {
   "cell_type": "code",
   "execution_count": null,
   "metadata": {
    "collapsed": false
   },
   "outputs": [],
   "source": []
  },
  {
   "cell_type": "code",
   "execution_count": null,
   "metadata": {
    "collapsed": true
   },
   "outputs": [],
   "source": []
  },
  {
   "cell_type": "code",
   "execution_count": null,
   "metadata": {
    "collapsed": true
   },
   "outputs": [],
   "source": []
  }
 ],
 "metadata": {
  "kernelspec": {
   "display_name": "Python 2",
   "language": "python",
   "name": "python2"
  },
  "language_info": {
   "codemirror_mode": {
    "name": "ipython",
    "version": 2
   },
   "file_extension": ".py",
   "mimetype": "text/x-python",
   "name": "python",
   "nbconvert_exporter": "python",
   "pygments_lexer": "ipython2",
   "version": "2.7.11"
  }
 },
 "nbformat": 4,
 "nbformat_minor": 0
}
