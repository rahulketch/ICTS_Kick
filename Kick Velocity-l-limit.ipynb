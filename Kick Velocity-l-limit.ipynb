{
 "cells": [
  {
   "cell_type": "code",
   "execution_count": 59,
   "metadata": {
    "collapsed": false
   },
   "outputs": [],
   "source": [
    "%matplotlib inline\n",
    "import numpy as np\n",
    "import matplotlib.pyplot as plt\n",
    "import h5py\n",
    "import my_functions as mf\n",
    "savefig = False\n",
    "speed_of_light = 299792.458\n",
    "path = '../Data/023/Lev5/' #path for the simulation\n",
    "extrapolation_order = 2\n",
    "\n",
    "alm = []\n",
    "H2 = []\n",
    "\n",
    "input_file1 = h5py.File(path+'rhOverM_Asymptotic_GeometricUnits.h5','r')\n",
    "SXS = input_file1['Extrapolated_N%i.dir'%(extrapolation_order)]['Y_l%i_m%i.dat'%(2,-1)]\n",
    "t = SXS[:,0]\n",
    "dt = np.diff(t)\n",
    "\n",
    "def ALM(l,m):\n",
    "    #print(\"lol\",l,m)\n",
    "    if m>l or m<-l or l<2 or l>8:\n",
    "        return 0\n",
    "    return alm[l-2][m+l]\n",
    "def Hcomp(l,m):\n",
    "    if m>l or m<-l or l<2 or l>8:\n",
    "        return 0\n",
    "    return H2[l-2][m+l]\n",
    "def norm(vector):\n",
    "    return np.sqrt(vector[0]*vector[0]+vector[1]*vector[1]+vector[2]*vector[2])\n",
    "\n",
    "meta = open(path+'metadata.txt','r')\n",
    "for line in meta:\n",
    "    line = line.translate(None,\",\")\n",
    "    line = line.split()\n",
    "    if(len(line)<2):\n",
    "        continue;\n",
    "    var = line[0].translate(None,\" \")\n",
    "    if var == 'initial-ADM-energy':\n",
    "        initial_mass = float(line[2])\n",
    "    if var == 'initial-ADM-linear-momentum':\n",
    "        initial_p = np.array([float(line[2]),float(line[3]),float(line[4])])\n",
    "    if var == 'initial-ADM-angular-momentum':\n",
    "        initial_j = np.array([float(line[2]),float(line[3]),float(line[4])])\n",
    "    if var == 'remnant-mass':\n",
    "        remnant_mass = float(line[2])\n",
    "    if var == 'remnant-spin':\n",
    "        remnant_spin = np.array([float(line[2]),float(line[3]),float(line[4])])\n",
    "    if var == 'initial-mass1':\n",
    "        initial_mass1 = float(line[2])\n",
    "    if var == 'initial-mass2':\n",
    "        initial_mass2 = float(line[2])\n",
    "    if var == 'initial-spin1':\n",
    "        initial_spin1 = np.array([float(line[2]),float(line[3]),float(line[4])])\n",
    "    if var == 'initial-spin2':\n",
    "        initial_spin2 = np.array([float(line[2]),float(line[3]),float(line[4])])\n",
    "    if var == 'alternative-names':\n",
    "         alt_name = line[2]\n",
    "    if var == 'simulation-name':\n",
    "         simulation_name= line[2] \n",
    "    \n",
    "        \n",
    "#The following are coefficients used in calculations of radiated angular and linear momentum       \n",
    "def f(l,m):\n",
    "    return np.sqrt((l-m)*(l+m+1))\n",
    "def a(l,m):\n",
    "    return np.sqrt((1.0+0j)*(l-m)*(l+m+1.0))/(l*(l+1.0))\n",
    "def b(l,m):\n",
    "    return (np.sqrt((1+0j)*(l-2.0)*(l+2.0)*(l+m)*(l+m-1.0)/(2.0*l-1.0)/(2.0*l+1.0)))/(2.0*l)\n",
    "def c(l,m):\n",
    "    return 2.0*m/(l*(l+1.0))\n",
    "def d(l,m):\n",
    "    return (np.sqrt((1.0+0j)*(l-2.0)*(l+2.0)*(l-m)*(l+m)/(2.0*l-1.0)/(2.0*l+1)))/l\n",
    "\n",
    "#Calculates the H and Hdots to be used for further analysis.\n",
    "for l in range(2,9):\n",
    "    alm.append([])\n",
    "    H2.append([])\n",
    "    for m in range(-l,l+1):\n",
    "        SXS = input_file1['Extrapolated_N2.dir']['Y_l%i_m%i.dat'%(l,m)]\n",
    "        H = SXS[:,1]+(0+1j)*SXS[:,2]\n",
    "        t = SXS[:,0]\n",
    "        Hdot = np.diff(H)/np.diff(t)\n",
    "        alm[l-2].append(Hdot)\n",
    "        H2[l-2].append(H[1:])     \n",
    "    \n",
    "\n",
    "    "
   ]
  },
  {
   "cell_type": "code",
   "execution_count": 60,
   "metadata": {
    "collapsed": false
   },
   "outputs": [],
   "source": [
    "l_kick = [] #Stores the kick velocities for different l values\n",
    "for L in range(5,9):    \n",
    "    dp_plus = (0+0j)*(dt)\n",
    "    dp_z = dp_plus\n",
    "    for l in range(2,L+1):\n",
    "        for m in range(-l,l+1):\n",
    "            dp_plus = dp_plus+ALM(l,m)*(a(l,m)*np.conj(ALM(l,m+1)) + b(l,-m)*np.conj(ALM(l-1,m+1)) - b(l+1,m+1)*np.conj(ALM(l+1,m+1)))\n",
    "            dp_z = dp_z + ALM(l,m)*(c(l,m)*np.conj(ALM(l,m)) + d(l,m)*np.conj(ALM(l-1,m)) + d(l+1,m)*np.conj(ALM(l+1,m)))\n",
    "    p_plus = np.cumsum(dp_plus*dt)/(8*np.pi)\n",
    "    PZ = np.real(np.cumsum(dp_z*dt)/(16*np.pi))\n",
    "    PX = np.real(p_plus)\n",
    "    PY = np.imag(p_plus)\n",
    "    P = np.array([PX,PY,PZ])\n",
    "    Total_P = norm(P)\n",
    "    Radiated_P = np.array([PX[-1],PY[-1],PZ[-1]])\n",
    "    Total_Radiated_P = norm(Radiated_P)\n",
    "    Kick = -1 * Radiated_P/remnant_mass * speed_of_light\n",
    "    Total_Kick = norm(Kick) \n",
    "    l_kick.append([L,Total_Kick])\n",
    "l_kick = np.array(l_kick)"
   ]
  },
  {
   "cell_type": "code",
   "execution_count": 61,
   "metadata": {
    "collapsed": false
   },
   "outputs": [
    {
     "name": "stdout",
     "output_type": "stream",
     "text": [
      "5.0|975.528076376 km/s |0.159432106236%\n",
      "6.0|976.817329241 km/s |0.0274833275195%\n",
      "7.0|977.088418791 km/s |0.000261373262693%\n",
      "8.0|977.08586495 km/s |0.0%\n"
     ]
    },
    {
     "data": {
      "image/png": "[encoded data removed]",
      "text/plain": [
       "<matplotlib.figure.Figure at 0x7fc8816aa0d0>"
      ]
     },
     "metadata": {},
     "output_type": "display_data"
    },
    {
     "name": "stdout",
     "output_type": "stream",
     "text": [
      "[ 0.1596867   0.02749088  0.00026137  0.        ]\n",
      "Mass Ratio: 1.49999999015\n",
      "Initial Spin1: [  1.79999999e-01  -1.18359719e-11  -6.53914796e-12]\n",
      "Initial Spin2: [ -7.26510406e-12  -8.00000006e-02   1.63736001e-12]\n",
      "Final Kick of Blackhole Calculated : [ 161.39779704  119.53478908  956.22119449]\n",
      "Final Speed of the Blackhole: 977.08586495 km/s\n"
     ]
    }
   ],
   "source": [
    "for l in l_kick:\n",
    "    if(l[0]==8):\n",
    "        total_kick = l[1]\n",
    "for l in l_kick:\n",
    "    #print(\"l:{} kick:{} km/s deviation: {}%\".format(l[0],l[1],mf.error(total_kick,l[1]))) \n",
    "    print(\"{}|{} km/s |{}%\".format(l[0],l[1],mf.error(total_kick,l[1]))) \n",
    "       \n",
    "deviation = mf.error(l_kick[:,1],total_kick)\n",
    "plt.figure(1)\n",
    "plt.xlabel(\"Limit on l\")\n",
    "plt.ylabel(\"Deviation from l = 8 in %\")\n",
    "plt.plot(l_kick[:,0],deviation,'ro')\n",
    "plt.title(simulation_name)\n",
    "plt.xlim(4,10)\n",
    "#plt.ylim(-0.001)\n",
    "if(savefig):\n",
    "    plt.savefig('images/'+alt_name +'_v_l')\n",
    "plt.show()\n",
    "\n",
    "print(deviation)\n",
    "print(\"Mass Ratio: {}\".format(initial_mass1/initial_mass2))\n",
    "print(\"Initial Spin1: {}\".format(initial_spin1))\n",
    "print(\"Initial Spin2: {}\".format(initial_spin2))\n",
    "print(\"Final Kick of Blackhole Calculated : {}\".format(Kick))\n",
    "print(\"Final Speed of the Blackhole: {} km/s\".format(Total_Kick))\n",
    "\n",
    "\n",
    "\n"
   ]
  },
  {
   "cell_type": "code",
   "execution_count": null,
   "metadata": {
    "collapsed": false
   },
   "outputs": [],
   "source": []
  },
  {
   "cell_type": "code",
   "execution_count": 30,
   "metadata": {
    "collapsed": false
   },
   "outputs": [
    {
     "data": {
      "text/plain": [
       "array([4, 5, 6])"
      ]
     },
     "execution_count": 30,
     "metadata": {},
     "output_type": "execute_result"
    }
   ],
   "source": []
  },
  {
   "cell_type": "code",
   "execution_count": null,
   "metadata": {
    "collapsed": true
   },
   "outputs": [],
   "source": []
  }
 ],
 "metadata": {
  "kernelspec": {
   "display_name": "Python 2",
   "language": "python",
   "name": "python2"
  },
  "language_info": {
   "codemirror_mode": {
    "name": "ipython",
    "version": 2
   },
   "file_extension": ".py",
   "mimetype": "text/x-python",
   "name": "python",
   "nbconvert_exporter": "python",
   "pygments_lexer": "ipython2",
   "version": "2.7.11"
  }
 },
 "nbformat": 4,
 "nbformat_minor": 0
}
