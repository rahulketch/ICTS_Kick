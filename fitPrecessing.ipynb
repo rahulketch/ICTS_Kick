{
 "cells": [
  {
   "cell_type": "code",
   "execution_count": null,
   "metadata": {
    "collapsed": true
   },
   "outputs": [],
   "source": [
    "#https://arxiv.org/pdf/0805.0159v5.pdf\n",
    "#http://arxiv.org/pdf/1211.7099v4.pdf\n",
    "import numpy as np\n",
    "E = 145 * np.pi / 180\n",
    "Am = 1.2e4\n",
    "Bm = -0.93\n",
    "Bh = 0\n",
    "Bk = 0\n",
    "K = 5.9e4 #+- 0.1\n",
    "H = 6.9e3 #+-0.5\n",
    "Hs = 0 #not given in the paper\n",
    "Ks = -4.254"
   ]
  }
 ],
 "metadata": {
  "kernelspec": {
   "display_name": "Python 2",
   "language": "python",
   "name": "python2"
  },
  "language_info": {
   "codemirror_mode": {
    "name": "ipython",
    "version": 2
   },
   "file_extension": ".py",
   "mimetype": "text/x-python",
   "name": "python",
   "nbconvert_exporter": "python",
   "pygments_lexer": "ipython2",
   "version": "2.7.11"
  }
 },
 "nbformat": 4,
 "nbformat_minor": 0
}
