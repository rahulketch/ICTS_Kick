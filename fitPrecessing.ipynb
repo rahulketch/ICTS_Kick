{
 "cells": [
  {
   "cell_type": "code",
   "execution_count": 33,
   "metadata": {
    "collapsed": false
   },
   "outputs": [],
   "source": [
    "#https://arxiv.org/pdf/0805.0159v5.pdf\n",
    "#http://arxiv.org/pdf/1211.7099v4.pdf\n",
    "#Here q is less than 1\n",
    "import numpy as np\n",
    "E = 145 * np.pi / 180\n",
    "Am = 1.2e4\n",
    "Bm = -0.93\n",
    "Bh = 0.\n",
    "Bk = 0.\n",
    "K = 5.9e4 #+- 0.1\n",
    "H = 6.9e3 #+-0.5\n",
    "Hs = 0. #not given in the paper\n",
    "Ks = -4.254\n",
    "\n",
    "def Vm(q,eta):\n",
    "    return Am * eta**2 * (1-q) / (1+q) * (1 + Bm*eta)\n",
    "def Vperp(q,eta,a1_par,a2_par):\n",
    "    return H * eta**2 /(1+q) * ((q+Bh*eta)*(a2_par - q*a1_par))\n",
    "\n",
    "def Vpar(q,eta,a1_perp,a2_perp,phi_delta,phi_1,phi_s,phi_2):\n",
    "    return K * eta**2 / (1+q) * ((a2_perp - q*a1_perp) * np.cos(phi_delta - phi_1) + \n",
    "                         Ks * (1-q)/((1+q)**2)*(a2_perp+ q**2 * a1_perp)*\n",
    "                          np.cos(phi_s - phi_2))\n",
    "    \n",
    "def Kick(q,eta,a1_par,a2_par,a1_perp,a2_perp,phi_delta,phi_1,phi_s,phi_2):\n",
    "    kick = np.sqrt(Vm(q,eta)**2 + Vperp(q,eta,a1_par,a2_par)**2 + 2 * Vperp(q,eta,a1_par,a2_par)*Vm(q,eta)*np.cos(E)+ \n",
    "               Vpar(q,eta,a1_perp,a2_perp,phi_delta,phi_1,phi_s,phi_2)**2)\n",
    "    return kick"
   ]
  },
  {
   "cell_type": "code",
   "execution_count": 34,
   "metadata": {
    "collapsed": false
   },
   "outputs": [
    {
     "name": "stdout",
     "output_type": "stream",
     "text": [
      "355679.898703\n"
     ]
    }
   ],
   "source": [
    "print(Kick(2.,2.,3.,4.,5.,6.,7.,8.,9.,10.))"
   ]
  },
  {
   "cell_type": "code",
   "execution_count": null,
   "metadata": {
    "collapsed": true
   },
   "outputs": [],
   "source": []
  }
 ],
 "metadata": {
  "kernelspec": {
   "display_name": "Python 2",
   "language": "python",
   "name": "python2"
  },
  "language_info": {
   "codemirror_mode": {
    "name": "ipython",
    "version": 2
   },
   "file_extension": ".py",
   "mimetype": "text/x-python",
   "name": "python",
   "nbconvert_exporter": "python",
   "pygments_lexer": "ipython2",
   "version": "2.7.11"
  }
 },
 "nbformat": 4,
 "nbformat_minor": 0
}
