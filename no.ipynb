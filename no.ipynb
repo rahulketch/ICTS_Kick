{
 "cells": [
  {
   "cell_type": "code",
   "execution_count": 42,
   "metadata": {
    "collapsed": false
   },
   "outputs": [],
   "source": [
    "import os\n",
    "res = []\n",
    "path = '../Data/181'\n",
    "for x in os.walk(path):\n",
    "    file = x[0][len(path)+1:]\n",
    "    if file.startswith('Lev'):\n",
    "        res.append([file])      "
   ]
  },
  {
   "cell_type": "code",
   "execution_count": 43,
   "metadata": {
    "collapsed": false
   },
   "outputs": [
    {
     "name": "stdout",
     "output_type": "stream",
     "text": [
      "[['Lev3', 3], ['Lev4', 4]]\n",
      "[['Lev3', 3], ['Lev4', 4]]\n",
      "['Lev4', 4]\n",
      "../Data/181/Lev4\n"
     ]
    }
   ],
   "source": [
    "for file in res:\n",
    "    file.append(int(file[0][3:]))\n",
    "print(res)    \n",
    "print(sorted(res,key = lambda x : x[1]))\n",
    "print(res[-1])\n",
    "print(path + '/' + res[-1][0])"
   ]
  },
  {
   "cell_type": "code",
   "execution_count": null,
   "metadata": {
    "collapsed": true
   },
   "outputs": [],
   "source": []
  },
  {
   "cell_type": "code",
   "execution_count": null,
   "metadata": {
    "collapsed": true
   },
   "outputs": [],
   "source": []
  },
  {
   "cell_type": "code",
   "execution_count": null,
   "metadata": {
    "collapsed": true
   },
   "outputs": [],
   "source": []
  }
 ],
 "metadata": {
  "kernelspec": {
   "display_name": "Python 2",
   "language": "python",
   "name": "python2"
  },
  "language_info": {
   "codemirror_mode": {
    "name": "ipython",
    "version": 2
   },
   "file_extension": ".py",
   "mimetype": "text/x-python",
   "name": "python",
   "nbconvert_exporter": "python",
   "pygments_lexer": "ipython2",
   "version": "2.7.11"
  }
 },
 "nbformat": 4,
 "nbformat_minor": 0
}
