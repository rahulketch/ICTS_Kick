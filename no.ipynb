{
 "cells": [
  {
   "cell_type": "code",
   "execution_count": 7,
   "metadata": {
    "collapsed": false
   },
   "outputs": [
    {
     "name": "stdout",
     "output_type": "stream",
     "text": [
      "83.2779576083\n",
      "[-76.59066556  32.69691381   0.        ]\n",
      "83.2779576083\n"
     ]
    }
   ],
   "source": [
    "import numpy as np\n",
    "import my_functions as mf\n",
    "import HLZ_recoil_fit as HLZ\n",
    "import numpy.linalg as ln\n",
    "q= 1.01\n",
    "s1= 0.0\n",
    "s2= 0.4\n",
    "\n",
    "print(HLZ.bbh_recoil_HLZ_aligned(1/q, s2, s1))\n",
    "print(HLZ.bbh_recoil_HLZ_aligned_components(1/q, s2, s1))\n",
    "V = HLZ.bbh_recoil_HLZ_aligned_components(1/q, s2, s1)\n",
    "print(ln.norm(V))\n"
   ]
  },
  {
   "cell_type": "code",
   "execution_count": null,
   "metadata": {
    "collapsed": true
   },
   "outputs": [],
   "source": []
  },
  {
   "cell_type": "code",
   "execution_count": null,
   "metadata": {
    "collapsed": true
   },
   "outputs": [],
   "source": []
  },
  {
   "cell_type": "code",
   "execution_count": null,
   "metadata": {
    "collapsed": true
   },
   "outputs": [],
   "source": []
  },
  {
   "cell_type": "code",
   "execution_count": null,
   "metadata": {
    "collapsed": true
   },
   "outputs": [],
   "source": []
  }
 ],
 "metadata": {
  "kernelspec": {
   "display_name": "Python 2",
   "language": "python",
   "name": "python2"
  },
  "language_info": {
   "codemirror_mode": {
    "name": "ipython",
    "version": 2
   },
   "file_extension": ".py",
   "mimetype": "text/x-python",
   "name": "python",
   "nbconvert_exporter": "python",
   "pygments_lexer": "ipython2",
   "version": "2.7.11"
  }
 },
 "nbformat": 4,
 "nbformat_minor": 0
}
