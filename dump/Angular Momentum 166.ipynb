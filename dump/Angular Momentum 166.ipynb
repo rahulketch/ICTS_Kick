{
 "cells": [
  {
   "cell_type": "code",
   "execution_count": 1,
   "metadata": {
    "collapsed": false
   },
   "outputs": [],
   "source": [
    "import h5py\n",
    "import matplotlib.pyplot as plt\n",
    "import numpy as np\n",
    "initial_mass = 0.9959680153681974568158\n",
    "remnant_mass     =  0.985471054121\n",
    "#a= -1.58925e-13,1.181e-13,2.56273174999e-10\n",
    "initial_spin1     =  np.array([0.082242988313 ,0.0394766344682 ,-0.0526355124943])\n",
    "initial_spin2     = np.array([ 0.0181850419292 ,0.00909252094152 ,-0.0181850419402])\n",
    "remnant_spin     =  np.array([-2.9581590708e-05, -2.9581590708e-05, 0.361708])\n",
    "initial_j =  np.array([5.094070900530050311145e-08,   -1.71858999922513462931e-08,   0.5157245477313998627267])\n",
    "alm = []\n",
    "H2 = []\n",
    "\n",
    "input_file1 = h5py.File('rhOverM_Asymptotic_GeometricUnits166.h5','r')\n",
    "SXS = input_file1['Extrapolated_N2.dir']['Y_l%i_m%i.dat'%(2,-1)]\n",
    "t = SXS[:,0]\n",
    "dt = np.diff(t)\n",
    "def f(l,m):\n",
    "    return np.sqrt((l-m)*(l+m+1))\n",
    "def ALM(l,m):\n",
    "    if m>l or m<-l:\n",
    "        return 0\n",
    "    return alm[l-2][m+l]\n",
    "def Hcomp(l,m):\n",
    "    \n",
    "    return H2[l-2][m+l]\n",
    "\n"
   ]
  },
  {
   "cell_type": "code",
   "execution_count": 2,
   "metadata": {
    "collapsed": false
   },
   "outputs": [],
   "source": [
    "\n",
    "for l in range(2,9):\n",
    "    alm.append([])\n",
    "    H2.append([])\n",
    "    for m in range(-l,l+1):\n",
    "        SXS = input_file1['Extrapolated_N2.dir']['Y_l%i_m%i.dat'%(l,m)]\n",
    "        H = SXS[:,1]+(0+1j)*SXS[:,2]\n",
    "        t = SXS[:,0]\n",
    "        Hdot = np.diff(H)/np.diff(t)\n",
    "        alm[l-2].append(Hdot)\n",
    "        H2[l-2].append(H[1:])\n",
    "\n",
    "            \n",
    "\n",
    "\n"
   ]
  },
  {
   "cell_type": "code",
   "execution_count": null,
   "metadata": {
    "collapsed": false
   },
   "outputs": [],
   "source": [
    "\n"
   ]
  },
  {
   "cell_type": "code",
   "execution_count": 3,
   "metadata": {
    "collapsed": false
   },
   "outputs": [],
   "source": [
    "\n",
    "djx = dt*0\n",
    "djy = djx\n",
    "djz = djx\n",
    "de = djx\n",
    "for l in range(2,9):\n",
    "    for m in range(-l,l+1):\n",
    "        djx = djx + np.imag(Hcomp(l,m)*(f(l,m)*np.conj(ALM(l,m+1)) + f(l,-m)*np.conj(ALM(l,m-1))))\n",
    "        djy = djy - np.real(Hcomp(l,m)*(f(l,m)*np.conj(ALM(l,m+1)) - f(l,-m)*np.conj(ALM(l,m-1))))\n",
    "        djz = djz + np.imag(m*Hcomp(l,m)*np.conj(ALM(l,m)))\n",
    "        de = de + ALM(l,m)*np.conj(ALM(l,m))   "
   ]
  },
  {
   "cell_type": "code",
   "execution_count": 4,
   "metadata": {
    "collapsed": false
   },
   "outputs": [
    {
     "name": "stdout",
     "output_type": "stream",
     "text": [
      "(0.985471054121, (0.98551615983999707+0j), (-4.5770719300635667e-05+0j))\n",
      "(array([ -2.95815907e-05,  -2.95815907e-05,   3.61708000e-01]), array([  4.96436662e-08,  -1.42017438e-08,   3.61995413e-01]))\n",
      "[  1.00167819e+00   9.99519913e-01  -7.94600515e-04]\n",
      "0.998765734854\n"
     ]
    }
   ],
   "source": [
    "JX = np.cumsum(djx*dt)/(32*np.pi)\n",
    "JY = np.cumsum(djy*dt)/(32*np.pi)\n",
    "JZ = np.cumsum(djz*dt)/(16*np.pi)\n",
    "E = np.cumsum(de*dt)/(16*np.pi)\n",
    "final_mass = initial_mass - E[-1]\n",
    "print(remnant_mass,final_mass,(remnant_mass-final_mass)/remnant_mass)\n",
    "\n",
    "radiation_spin = np.array([JX[-1],JY[-1],JZ[-1]])\n",
    "final_spin = initial_j - radiation_spin\n",
    "print(remnant_spin,final_spin)\n",
    "print((remnant_spin-final_spin)/remnant_spin)\n",
    "Jsq_init= np.sqrt((remnant_spin[0]*remnant_spin[0]+remnant_spin[1]*remnant_spin[1]))\n",
    "Jsq_final = np.sqrt(final_spin[0]*final_spin[0]+final_spin[1]*final_spin[1])\n",
    "print((Jsq_init-Jsq_final)/(Jsq_init))"
   ]
  },
  {
   "cell_type": "code",
   "execution_count": 5,
   "metadata": {
    "collapsed": false
   },
   "outputs": [
    {
     "name": "stdout",
     "output_type": "stream",
     "text": [
      "0.361995413363\n"
     ]
    }
   ],
   "source": [
    "\n",
    "Jsq_final2 = np.sqrt(final_spin[0]*final_spin[0]+final_spin[1]*final_spin[1]+final_spin[2]*final_spin[2])\n",
    "print(Jsq_final2)\n",
    "\n"
   ]
  },
  {
   "cell_type": "code",
   "execution_count": null,
   "metadata": {
    "collapsed": false
   },
   "outputs": [],
   "source": []
  },
  {
   "cell_type": "code",
   "execution_count": null,
   "metadata": {
    "collapsed": true
   },
   "outputs": [],
   "source": []
  },
  {
   "cell_type": "code",
   "execution_count": null,
   "metadata": {
    "collapsed": true
   },
   "outputs": [],
   "source": []
  }
 ],
 "metadata": {
  "kernelspec": {
   "display_name": "Python 2",
   "language": "python",
   "name": "python2"
  },
  "language_info": {
   "codemirror_mode": {
    "name": "ipython",
    "version": 2
   },
   "file_extension": ".py",
   "mimetype": "text/x-python",
   "name": "python",
   "nbconvert_exporter": "python",
   "pygments_lexer": "ipython2",
   "version": "2.7.11"
  }
 },
 "nbformat": 4,
 "nbformat_minor": 0
}
