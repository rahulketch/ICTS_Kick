{
 "cells": [
  {
   "cell_type": "code",
   "execution_count": 3,
   "metadata": {
    "collapsed": false
   },
   "outputs": [],
   "source": [
    "%matplotlib inline\n",
    "import h5py\n",
    "import matplotlib.pyplot as plt\n",
    "import numpy as np\n",
    "input_file1 = h5py.File('rhOverM_Asymptotic_GeometricUnits.h5','r')\n",
    "SXS = input_file1['Extrapolated_N2.dir']['Y_l%i_m%i.dat'%(2,-1)]"
   ]
  },
  {
   "cell_type": "code",
   "execution_count": 4,
   "metadata": {
    "collapsed": false
   },
   "outputs": [],
   "source": [
    "t = SXS[:,0]\n",
    "sum=t[1:]*0; #initializing the energy\n",
    "for l in range(2,9):\n",
    "    for m in range(-l,l+1):\n",
    "        SXS = input_file1['OutermostExtraction.dir']['Y_l%i_m%i.dat'%(l,m)]\n",
    "        #print(l,m)\n",
    "        t = SXS[:,0] \n",
    "        #h_real = SXS[]\n",
    "        h_real = SXS[:,1]\n",
    "        h_imag = SXS[:,2]\n",
    "        dt = t[1]-t[0]\n",
    "        hdot_real = np.diff(h_real)/dt #taking the diffrential \n",
    "        hdot_imag = np.diff(h_imag)/dt \n",
    "        sum = sum + hdot_real*hdot_real + hdot_imag*hdot_imag #computing the square of Alm and adding it the energy\n",
    "\n"
   ]
  },
  {
   "cell_type": "code",
   "execution_count": 7,
   "metadata": {
    "collapsed": false
   },
   "outputs": [
    {
     "data": {
      "image/png": "[encoded data removed]",
      "text/plain": [
       "<matplotlib.figure.Figure at 0x7f69285e0950>"
      ]
     },
     "metadata": {},
     "output_type": "display_data"
    }
   ],
   "source": [
    "e = np.cumsum(dt*sum) #integrating and dividing by the correct factor\n",
    "plt.figure(1)\n",
    "plt.plot(t[1:],e)\n",
    "plt.show()\n",
    "\n"
   ]
  },
  {
   "cell_type": "code",
   "execution_count": 9,
   "metadata": {
    "collapsed": false
   },
   "outputs": [
    {
     "name": "stdout",
     "output_type": "stream",
     "text": [
      "0.953441535992\n"
     ]
    }
   ],
   "source": [
    "Remnant = 0.9937363275412056-e[-1]/16 #Subtracting radiated energy from the initial energy\n",
    "print(Remnant)"
   ]
  },
  {
   "cell_type": "code",
   "execution_count": null,
   "metadata": {
    "collapsed": false
   },
   "outputs": [],
   "source": []
  },
  {
   "cell_type": "code",
   "execution_count": null,
   "metadata": {
    "collapsed": false
   },
   "outputs": [],
   "source": []
  },
  {
   "cell_type": "code",
   "execution_count": null,
   "metadata": {
    "collapsed": true
   },
   "outputs": [],
   "source": []
  }
 ],
 "metadata": {
  "kernelspec": {
   "display_name": "Python 2",
   "language": "python",
   "name": "python2"
  },
  "language_info": {
   "codemirror_mode": {
    "name": "ipython",
    "version": 2
   },
   "file_extension": ".py",
   "mimetype": "text/x-python",
   "name": "python",
   "nbconvert_exporter": "python",
   "pygments_lexer": "ipython2",
   "version": "2.7.11"
  }
 },
 "nbformat": 4,
 "nbformat_minor": 0
}
