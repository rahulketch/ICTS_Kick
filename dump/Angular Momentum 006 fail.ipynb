{
 "cells": [
  {
   "cell_type": "code",
   "execution_count": 184,
   "metadata": {
    "collapsed": false
   },
   "outputs": [],
   "source": [
    "%matplotlib inline\n",
    "initial_mass = 0.9932835557603398\n",
    "remnant_mass     =  0.956545323918\n",
    "#a= -1.58925e-13,1.181e-13,2.56273174999e-10\n",
    "initial_spin1     =  np.array([0.082242988313 ,0.0394766344682 ,-0.0526355124943])\n",
    "initial_spin2     = np.array([ 0.0181850419292 ,0.00909252094152 ,-0.0181850419402])\n",
    "remnant_spin     =  np.array([0.0466094549397, 0.0275813208324, 0.579078414003])\n",
    "initial_j =  np.array([0.1005730323308390,   0.0447975576151179,   1.0425979162747623])\n",
    "alm = []\n",
    "H2 = []\n",
    "import h5py\n",
    "import matplotlib.pyplot as plt\n",
    "import numpy as np\n",
    "input_file1 = h5py.File('rhOverM_Asymptotic_GeometricUnits006.h5','r')\n",
    "SXS = input_file1['Extrapolated_N2.dir']['Y_l%i_m%i.dat'%(2,-1)]\n",
    "t = SXS[:,0]\n",
    "dt = np.diff(t)\n",
    "def f(l,m):\n",
    "    return np.sqrt((l-m)*(l+m+1))\n",
    "def ALM(l,m):\n",
    "    if m>l or m<-l:\n",
    "        return 0\n",
    "    return alm[l-2][m+l]\n",
    "def Hcomp(l,m):\n",
    "    \n",
    "    return H2[l-2][m+l]\n",
    "\n"
   ]
  },
  {
   "cell_type": "code",
   "execution_count": 185,
   "metadata": {
    "collapsed": false
   },
   "outputs": [],
   "source": [
    "\n",
    "for l in range(2,9):\n",
    "    alm.append([])\n",
    "    H2.append([])\n",
    "    for m in range(-l,l+1):\n",
    "        SXS = input_file1['Extrapolated_N2.dir']['Y_l%i_m%i.dat'%(l,m)]\n",
    "        H = SXS[:,1]+(0+1j)*SXS[:,2]\n",
    "        t = SXS[:,0]\n",
    "        Hdot = np.diff(H)/np.diff(t)\n",
    "        alm[l-2].append(Hdot)\n",
    "        H2[l-2].append(H[1:])\n",
    "\n",
    "            \n",
    "\n",
    "\n"
   ]
  },
  {
   "cell_type": "code",
   "execution_count": null,
   "metadata": {
    "collapsed": false
   },
   "outputs": [],
   "source": [
    "\n"
   ]
  },
  {
   "cell_type": "code",
   "execution_count": 186,
   "metadata": {
    "collapsed": false
   },
   "outputs": [],
   "source": [
    "\n",
    "djx = dt*0\n",
    "djy = djx\n",
    "djz = djx\n",
    "de = djx\n",
    "for l in range(2,9):\n",
    "    for m in range(-l,l+1):\n",
    "        djx = djx + np.imag(Hcomp(l,m)*(f(l,m)*np.conj(ALM(l,m+1)) + f(l,-m)*np.conj(ALM(l,m-1))))\n",
    "        djy = djy - np.real(Hcomp(l,m)*(f(l,m)*np.conj(ALM(l,m+1)) - f(l,-m)*np.conj(ALM(l,m-1))))\n",
    "        djz = djz + np.imag(m*Hcomp(l,m)*np.conj(ALM(l,m)))\n",
    "        de = de + ALM(l,m)*np.conj(ALM(l,m))   "
   ]
  },
  {
   "cell_type": "code",
   "execution_count": 187,
   "metadata": {
    "collapsed": false
   },
   "outputs": [
    {
     "name": "stdout",
     "output_type": "stream",
     "text": [
      "(0.956545323918, (0.95648006344574177+0j), (6.8225175144740865e-05+0j))\n",
      "(array([ 0.04660945,  0.02758132,  0.57907841]), array([ 0.04661495,  0.0275272 ,  0.57943781]))\n",
      "[-0.00011786  0.00196226 -0.00062063]\n",
      "0.000421213485612\n"
     ]
    }
   ],
   "source": [
    "JX = np.cumsum(djx*dt)/(32*np.pi)\n",
    "JY = np.cumsum(djy*dt)/(32*np.pi)\n",
    "JZ = np.cumsum(djz*dt)/(16*np.pi)\n",
    "E = np.cumsum(de*dt)/(16*np.pi)\n",
    "final_mass = initial_mass - E[-1]\n",
    "print(remnant_mass,final_mass,(remnant_mass-final_mass)/remnant_mass)\n",
    "\n",
    "radiation_spin = np.array([JX[-1],JY[-1],JZ[-1]])\n",
    "final_spin = initial_j - radiation_spin\n",
    "print(remnant_spin,final_spin)\n",
    "print((remnant_spin-final_spin)/remnant_spin)\n",
    "Jsq_init= np.sqrt((remnant_spin[0]*remnant_spin[0]+remnant_spin[1]*remnant_spin[1]))\n",
    "Jsq_final = np.sqrt(final_spin[0]*final_spin[0]+final_spin[1]*final_spin[1])\n",
    "print((Jsq_init-Jsq_final)/(Jsq_init))\n"
   ]
  },
  {
   "cell_type": "code",
   "execution_count": 188,
   "metadata": {
    "collapsed": false
   },
   "outputs": [
    {
     "name": "stdout",
     "output_type": "stream",
     "text": [
      "(array([ 0.05396358,  0.01721624,  0.4635195 ]), array([ 0.05395808,  0.01727036,  0.46316011]))\n"
     ]
    }
   ],
   "source": [
    "\n",
    "Final_spin2 = initial_j - remnant_spin\n",
    "\n",
    "print(Final_spin2,radiation_spin)"
   ]
  },
  {
   "cell_type": "code",
   "execution_count": 143,
   "metadata": {
    "collapsed": false
   },
   "outputs": [
    {
     "ename": "SyntaxError",
     "evalue": "invalid syntax (<ipython-input-143-5305b7e52cfe>, line 1)",
     "output_type": "error",
     "traceback": [
      "\u001b[1;36m  File \u001b[1;32m\"<ipython-input-143-5305b7e52cfe>\"\u001b[1;36m, line \u001b[1;32m1\u001b[0m\n\u001b[1;33m    final_spin =\u001b[0m\n\u001b[1;37m                 ^\u001b[0m\n\u001b[1;31mSyntaxError\u001b[0m\u001b[1;31m:\u001b[0m invalid syntax\n"
     ]
    }
   ],
   "source": []
  },
  {
   "cell_type": "code",
   "execution_count": null,
   "metadata": {
    "collapsed": true
   },
   "outputs": [],
   "source": []
  }
 ],
 "metadata": {
  "kernelspec": {
   "display_name": "Python 2",
   "language": "python",
   "name": "python2"
  },
  "language_info": {
   "codemirror_mode": {
    "name": "ipython",
    "version": 2
   },
   "file_extension": ".py",
   "mimetype": "text/x-python",
   "name": "python",
   "nbconvert_exporter": "python",
   "pygments_lexer": "ipython2",
   "version": "2.7.11"
  }
 },
 "nbformat": 4,
 "nbformat_minor": 0
}
