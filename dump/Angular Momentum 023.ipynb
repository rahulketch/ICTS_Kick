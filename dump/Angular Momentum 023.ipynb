{
 "cells": [
  {
   "cell_type": "code",
   "execution_count": 12,
   "metadata": {
    "collapsed": false
   },
   "outputs": [],
   "source": [
    "import h5py\n",
    "import matplotlib.pyplot as plt\n",
    "import numpy as np\n",
    "initial_mass = 0.9945731984945042\n",
    "remnant_mass     =  0.960709618122\n",
    "#a= -1.58925e-13,1.181e-13,2.56273174999e-10\n",
    "initial_spin1     =  np.array([0.082242988313 ,0.0394766344682 ,-0.0526355124943])\n",
    "initial_spin2     = np.array([ 0.0181850419292 ,0.00909252094152 ,-0.0181850419402])\n",
    "remnant_spin     =  np.array([0.0907746850234, -0.0417165127427, 0.613954470303])\n",
    "initial_j =  np.array([0.1801996752076189,  -0.0750869039689115,   1.0874354988711725])\n",
    "alm = []\n",
    "H2 = []\n",
    "\n",
    "input_file1 = h5py.File('rhOverM_Asymptotic_GeometricUnits023.h5','r')\n",
    "SXS = input_file1['Extrapolated_N2.dir']['Y_l%i_m%i.dat'%(2,-1)]\n",
    "t = SXS[:,0]\n",
    "dt = np.diff(t)\n",
    "def f(l,m):\n",
    "    return np.sqrt((l-m)*(l+m+1))\n",
    "def ALM(l,m):\n",
    "    if m>l or m<-l:\n",
    "        return 0\n",
    "    return alm[l-2][m+l]\n",
    "def Hcomp(l,m):\n",
    "    \n",
    "    return H2[l-2][m+l]\n",
    "\n"
   ]
  },
  {
   "cell_type": "code",
   "execution_count": 13,
   "metadata": {
    "collapsed": false
   },
   "outputs": [],
   "source": [
    "\n",
    "for l in range(2,9):\n",
    "    alm.append([])\n",
    "    H2.append([])\n",
    "    for m in range(-l,l+1):\n",
    "        SXS = input_file1['Extrapolated_N2.dir']['Y_l%i_m%i.dat'%(l,m)]\n",
    "        H = SXS[:,1]+(0+1j)*SXS[:,2]\n",
    "        t = SXS[:,0]\n",
    "        Hdot = np.diff(H)/np.diff(t)\n",
    "        alm[l-2].append(Hdot)\n",
    "        H2[l-2].append(H[1:])\n",
    "\n",
    "            \n",
    "\n",
    "\n"
   ]
  },
  {
   "cell_type": "code",
   "execution_count": null,
   "metadata": {
    "collapsed": false
   },
   "outputs": [],
   "source": [
    "\n"
   ]
  },
  {
   "cell_type": "code",
   "execution_count": 14,
   "metadata": {
    "collapsed": false
   },
   "outputs": [],
   "source": [
    "\n",
    "djx = dt*0\n",
    "djy = djx\n",
    "djz = djx\n",
    "de = djx\n",
    "for l in range(2,9):\n",
    "    for m in range(-l,l+1):\n",
    "        djx = djx + np.imag(Hcomp(l,m)*(f(l,m)*np.conj(ALM(l,m+1)) + f(l,-m)*np.conj(ALM(l,m-1))))\n",
    "        djy = djy - np.real(Hcomp(l,m)*(f(l,m)*np.conj(ALM(l,m+1)) - f(l,-m)*np.conj(ALM(l,m-1))))\n",
    "        djz = djz + np.imag(m*Hcomp(l,m)*np.conj(ALM(l,m)))\n",
    "        de = de + ALM(l,m)*np.conj(ALM(l,m))   "
   ]
  },
  {
   "cell_type": "code",
   "execution_count": 15,
   "metadata": {
    "collapsed": false
   },
   "outputs": [
    {
     "name": "stdout",
     "output_type": "stream",
     "text": [
      "(0.960709618122, (0.95406653028960742+0j), (0.0069147718593454682+0j))\n",
      "(array([ 0.09077469, -0.04171651,  0.61395447]), array([ 0.09040949, -0.04229813,  0.6132998 ]))\n",
      "[ 0.0040231  -0.01394215  0.00106632]\n",
      "0.000867248222631\n"
     ]
    }
   ],
   "source": [
    "JX = np.cumsum(djx*dt)/(32*np.pi)\n",
    "JY = np.cumsum(djy*dt)/(32*np.pi)\n",
    "JZ = np.cumsum(djz*dt)/(16*np.pi)\n",
    "E = np.cumsum(de*dt)/(16*np.pi)\n",
    "final_mass = initial_mass - E[-1]\n",
    "print(remnant_mass,final_mass,(remnant_mass-final_mass)/remnant_mass)\n",
    "\n",
    "radiation_spin = np.array([JX[-1],JY[-1],JZ[-1]])\n",
    "final_spin = initial_j - radiation_spin\n",
    "print(remnant_spin,final_spin)\n",
    "print((remnant_spin-final_spin)/remnant_spin)\n",
    "Jsq_init= np.sqrt((remnant_spin[0]*remnant_spin[0]+remnant_spin[1]*remnant_spin[1]))\n",
    "Jsq_final = np.sqrt(final_spin[0]*final_spin[0]+final_spin[1]*final_spin[1])\n",
    "print((Jsq_init-Jsq_final)/(Jsq_init))"
   ]
  },
  {
   "cell_type": "code",
   "execution_count": 11,
   "metadata": {
    "collapsed": false
   },
   "outputs": [
    {
     "ename": "NameError",
     "evalue": "name 'Final_spin2' is not defined",
     "output_type": "error",
     "traceback": [
      "\u001b[1;31m---------------------------------------------------------------------------\u001b[0m",
      "\u001b[1;31mNameError\u001b[0m                                 Traceback (most recent call last)",
      "\u001b[1;32m<ipython-input-11-b562d089383d>\u001b[0m in \u001b[0;36m<module>\u001b[1;34m()\u001b[0m\n\u001b[0;32m      1\u001b[0m \u001b[1;33m\u001b[0m\u001b[0m\n\u001b[0;32m      2\u001b[0m \u001b[1;33m\u001b[0m\u001b[0m\n\u001b[1;32m----> 3\u001b[1;33m \u001b[1;32mprint\u001b[0m\u001b[1;33m(\u001b[0m\u001b[0mFinal_spin2\u001b[0m\u001b[1;33m,\u001b[0m\u001b[0mradiation_spin\u001b[0m\u001b[1;33m)\u001b[0m\u001b[1;33m\u001b[0m\u001b[0m\n\u001b[0m",
      "\u001b[1;31mNameError\u001b[0m: name 'Final_spin2' is not defined"
     ]
    }
   ],
   "source": [
    "\n",
    "\n",
    "print(Final_spin2,radiation_spin)"
   ]
  },
  {
   "cell_type": "code",
   "execution_count": null,
   "metadata": {
    "collapsed": false
   },
   "outputs": [],
   "source": []
  },
  {
   "cell_type": "code",
   "execution_count": null,
   "metadata": {
    "collapsed": true
   },
   "outputs": [],
   "source": []
  },
  {
   "cell_type": "code",
   "execution_count": null,
   "metadata": {
    "collapsed": true
   },
   "outputs": [],
   "source": []
  }
 ],
 "metadata": {
  "kernelspec": {
   "display_name": "Python 2",
   "language": "python",
   "name": "python2"
  },
  "language_info": {
   "codemirror_mode": {
    "name": "ipython",
    "version": 2
   },
   "file_extension": ".py",
   "mimetype": "text/x-python",
   "name": "python",
   "nbconvert_exporter": "python",
   "pygments_lexer": "ipython2",
   "version": "2.7.11"
  }
 },
 "nbformat": 4,
 "nbformat_minor": 0
}
