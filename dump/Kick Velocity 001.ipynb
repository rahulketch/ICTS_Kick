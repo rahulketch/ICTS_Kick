{
 "cells": [
  {
   "cell_type": "code",
   "execution_count": 1,
   "metadata": {
    "collapsed": false
   },
   "outputs": [],
   "source": [
    "import h5py\n",
    "import matplotlib.pyplot as plt\n",
    "import numpy as np\n",
    "speed_of_light = 299792.458\n",
    "initial_mass = 0.9937363275412056\n",
    "remnant_mass     =  0.951609417715\n",
    "initial_p  =  np.array([0.0000000046092424,  -0.0000000079294174,   0.000018755605133])\n",
    "#a= -1.58925e-13,1.181e-13,2.56273174999e-10\n",
    "initial_spin1     =  np.array([0.082242988313 ,0.0394766344682 ,-0.0526355124943])\n",
    "initial_spin2     = np.array([ 0.0181850419292 ,0.00909252094152 ,-0.0181850419402])\n",
    "remnant_spin     =  np.array([0.0907746850234, -0.0417165127427, 0.613954470303])\n",
    "initial_j =  np.array([0.1801996752076189,  -0.0750869039689115,   1.0874354988711725])\n",
    "alm = []\n",
    "H2 = []\n",
    "\n",
    "input_file1 = h5py.File('rhOverM_Asymptotic_GeometricUnits.h5','r')\n",
    "SXS = input_file1['Extrapolated_N2.dir']['Y_l%i_m%i.dat'%(2,-1)]\n",
    "t = SXS[:,0]\n",
    "dt = np.diff(t)\n",
    "def f(l,m):\n",
    "    return np.sqrt((l-m)*(l+m+1))\n",
    "def ALM(l,m):\n",
    "    #print(\"lol\",l,m)\n",
    "    if m>l or m<-l or l<2 or l>8:\n",
    "        return 0\n",
    "    return alm[l-2][m+l]\n",
    "def Hcomp(l,m):\n",
    "    if m>l or m<-l or l<2 or l>8:\n",
    "        return 0\n",
    "    return H2[l-2][m+l]\n",
    "\n",
    "for l in range(2,9):\n",
    "    alm.append([])\n",
    "    H2.append([])\n",
    "    for m in range(-l,l+1):\n",
    "        SXS = input_file1['Extrapolated_N2.dir']['Y_l%i_m%i.dat'%(l,m)]\n",
    "        H = SXS[:,1]+(0+1j)*SXS[:,2]\n",
    "        t = SXS[:,0]\n",
    "        Hdot = np.diff(H)/np.diff(t)\n",
    "        alm[l-2].append(Hdot)\n",
    "        H2[l-2].append(H[1:])\n",
    "        \n",
    "def a(l,m):\n",
    "    return np.sqrt((1.0+0j)*(l-m)*(l+m+1.0))/(l*(l+1.0))\n",
    "def b(l,m):\n",
    "    return (np.sqrt((1+0j)*(l-2.0)*(l+2.0)*(l+m)*(l+m-1.0)/(2.0*l-1.0)/(2.0*l+1.0)))/(2.0*l)\n",
    "def c(l,m):\n",
    "    return 2.0*m/(l*(l+1.0))\n",
    "def d(l,m):\n",
    "    return (np.sqrt((1.0+0j)*(l-2.0)*(l+2.0)*(l-m)*(l+m)/(2.0*l-1.0)/(2.0*l+1)))/l\n",
    "\n",
    "for l in range(2,9):\n",
    "    alm.append([])\n",
    "    H2.append([])\n",
    "    for m in range(-l,l+1):\n",
    "        SXS = input_file1['Extrapolated_N2.dir']['Y_l%i_m%i.dat'%(l,m)]\n",
    "        H = SXS[:,1]+(0+1j)*SXS[:,2]\n",
    "        t = SXS[:,0]\n",
    "        Hdot = np.diff(H)/np.diff(t)\n",
    "        alm[l-2].append(Hdot)\n",
    "        H2[l-2].append(H[1:])"
   ]
  },
  {
   "cell_type": "code",
   "execution_count": 2,
   "metadata": {
    "collapsed": false
   },
   "outputs": [],
   "source": [
    "dp_plus = (0+0j)*(dt)\n",
    "dp_z = dp_plus\n",
    "for l in range(2,9):\n",
    "    for m in range(-l,l+1):\n",
    "        #print(l,m)\n",
    "        dp_plus = dp_plus+ALM(l,m)*(a(l,m)*np.conj(ALM(l,m+1)) + b(l,-m)*np.conj(ALM(l-1,m+1)) - b(l+1,m+1)*np.conj(ALM(l+1,m+1)))\n",
    "        dp_z = dp_z + ALM(l,m)*(c(l,m)*np.conj(ALM(l,m)) + d(l,m)*np.conj(ALM(l-1,m)) + d(l+1,m)*np.conj(ALM(l+1,m)))\n",
    "p_plus = np.cumsum(dp_plus*dt)/(8*np.pi)\n",
    "p_z = np.cumsum(dp_z*dt)/(16*np.pi)\n",
    "p_x = np.real(p_plus)\n",
    "p_y = np.imag(p_plus)"
   ]
  },
  {
   "cell_type": "code",
   "execution_count": 3,
   "metadata": {
    "collapsed": true
   },
   "outputs": [],
   "source": [
    "radiation_p = np.array([p_x[-1],p_y[-1],p_z[-1]])\n",
    "#final_p = initial_p - radiation_p\n",
    "final_p = -radiation_p\n",
    "final_p_mod = np.sqrt(np.real(final_p[0])*np.real(final_p[0])+np.real(final_p[1])*np.real(final_p[1])+np.real(final_p[2])*np.real(final_p[2]))"
   ]
  },
  {
   "cell_type": "code",
   "execution_count": 4,
   "metadata": {
    "collapsed": false
   },
   "outputs": [
    {
     "name": "stdout",
     "output_type": "stream",
     "text": [
      "(0.00032209705735821131, array([  4.60924240e-09,  -7.92941740e-09,   1.87556051e-05]))\n"
     ]
    }
   ],
   "source": [
    "kick = (final_p_mod/remnant_mass)*speed_of_light\n",
    "print(kick,initial_p)\n"
   ]
  },
  {
   "cell_type": "code",
   "execution_count": 5,
   "metadata": {
    "collapsed": false
   },
   "outputs": [
    {
     "name": "stdout",
     "output_type": "stream",
     "text": [
      "5.90871583627\n"
     ]
    }
   ],
   "source": [
    "# initial_p_mod = np.sqrt(np.real(initial_p[0])*np.real(initial_p[0])+np.real(initial_p[1])*np.real(initial_p[1])+np.real(initial_p[2])*np.real(initial_p[2]))\n",
    "# kick2 = (initial_p_mod/remnant_mass)*speed_of_light\n",
    "# print(kick2)"
   ]
  },
  {
   "cell_type": "code",
   "execution_count": null,
   "metadata": {
    "collapsed": true
   },
   "outputs": [],
   "source": []
  }
 ],
 "metadata": {
  "kernelspec": {
   "display_name": "Python 2",
   "language": "python",
   "name": "python2"
  },
  "language_info": {
   "codemirror_mode": {
    "name": "ipython",
    "version": 2
   },
   "file_extension": ".py",
   "mimetype": "text/x-python",
   "name": "python",
   "nbconvert_exporter": "python",
   "pygments_lexer": "ipython2",
   "version": "2.7.11"
  }
 },
 "nbformat": 4,
 "nbformat_minor": 0
}
