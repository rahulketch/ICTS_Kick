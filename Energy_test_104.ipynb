{
 "cells": [
  {
   "cell_type": "code",
   "execution_count": 6,
   "metadata": {
    "collapsed": false
   },
   "outputs": [],
   "source": [
    "%matplotlib inline\n",
    "initial = 0.9945731984945042\n",
    "import h5py\n",
    "import matplotlib.pyplot as plt\n",
    "import numpy as np\n",
    "input_file1 = h5py.File('rhOverM_Asymptotic_GeometricUnits104.h5','r')\n",
    "SXS = input_file1['Extrapolated_N2.dir']['Y_l%i_m%i.dat'%(2,-1)]\n",
    "t = SXS[:,0]\n",
    "dt = np.diff(t)\n"
   ]
  },
  {
   "cell_type": "code",
   "execution_count": 8,
   "metadata": {
    "collapsed": false
   },
   "outputs": [
    {
     "name": "stdout",
     "output_type": "stream",
     "text": [
      "(2, -2, (6.9243909763951556e-14+0j))\n",
      "(2, -1, (6.9319469276954791e-14+0j))\n",
      "(2, 0, (6.9871383210184018e-14+0j))\n",
      "(2, 1, (7.3265323715863847e-14+0j))\n",
      "(2, 2, (1.4344709186240332e-13+0j))\n",
      "(3, -3, (1.6496844888838226e-13+0j))\n",
      "(3, -2, (1.6646608023608536e-13+0j))\n",
      "(3, -1, (1.6674852903293203e-13+0j))\n",
      "(3, 0, (1.6742986569359934e-13+0j))\n",
      "(3, 1, (1.6772647739541089e-13+0j))\n",
      "(3, 2, (1.6910598103005165e-13+0j))\n",
      "(3, 3, (2.8665860168729114e-13+0j))\n",
      "(4, -4, (6.1291369495090814e-12+0j))\n",
      "(4, -3, (6.1333424942240793e-12+0j))\n",
      "(4, -2, (6.1335975900042072e-12+0j))\n",
      "(4, -1, (6.1336146786445408e-12+0j))\n",
      "(4, 0, (6.1339087723021538e-12+0j))\n",
      "(4, 1, (6.1339138653589699e-12+0j))\n",
      "(4, 2, (6.1340323458332824e-12+0j))\n",
      "(4, 3, (6.1393922813017356e-12+0j))\n",
      "(4, 4, (1.4904541424975855e-11+0j))\n",
      "(5, -5, (3.0216774634280141e-11+0j))\n",
      "(5, -4, (3.0717398780052523e-11+0j))\n",
      "(5, -3, (3.0738080741628157e-11+0j))\n",
      "(5, -2, (3.0738225426841667e-11+0j))\n",
      "(5, -1, (3.0738260998214595e-11+0j))\n",
      "(5, 0, (3.0738323463915429e-11+0j))\n",
      "(5, 1, (3.0738364426507922e-11+0j))\n",
      "(5, 2, (3.0738400828303267e-11+0j))\n",
      "(5, 3, (3.0751637979198766e-11+0j))\n",
      "(5, 4, (3.1967290047966847e-11+0j))\n",
      "(5, 5, (6.2065317477741953e-11+0j))\n",
      "(6, -6, (6.7221967633750145e-11+0j))\n",
      "(6, -5, (6.7662457128660182e-11+0j))\n",
      "(6, -4, (6.7685203609566432e-11+0j))\n",
      "(6, -3, (6.7686299897246459e-11+0j))\n",
      "(6, -2, (6.7686303461820732e-11+0j))\n",
      "(6, -1, (6.7686304802395826e-11+0j))\n",
      "(6, 0, (6.7686314285722794e-11+0j))\n",
      "(6, 1, (6.7686315382473658e-11+0j))\n",
      "(6, 2, (6.7686318452720184e-11+0j))\n",
      "(6, 3, (6.7687728451584968e-11+0j))\n",
      "(6, 4, (6.7722845366381423e-11+0j))\n",
      "(6, 5, (6.8805298917088908e-11+0j))\n",
      "(6, 6, (7.8226389320211981e-11+0j))\n",
      "(7, -7, (8.337340202498948e-11+0j))\n",
      "(7, -6, (8.3467061828093213e-11+0j))\n",
      "(7, -5, (8.3471512771342733e-11+0j))\n",
      "(7, -4, (8.3471572090648668e-11+0j))\n",
      "(7, -3, (8.347158424662105e-11+0j))\n",
      "(7, -2, (8.3471584759082588e-11+0j))\n",
      "(7, -1, (8.3471601910001914e-11+0j))\n",
      "(7, 0, (8.3471602146089497e-11+0j))\n",
      "(7, 1, (8.3471624513787693e-11+0j))\n",
      "(7, 2, (8.347162485628189e-11+0j))\n",
      "(7, 3, (8.3471628660615757e-11+0j))\n",
      "(7, 4, (8.3472434837757868e-11+0j))\n",
      "(7, 5, (8.3475125769292577e-11+0j))\n",
      "(7, 6, (8.4196283849055647e-11+0j))\n",
      "(7, 7, (9.238564520302152e-11+0j))\n",
      "(8, -8, (9.3051243076435513e-11+0j))\n",
      "(8, -7, (9.3296318785893001e-11+0j))\n",
      "(8, -6, (9.3296565285023037e-11+0j))\n",
      "(8, -5, (9.3296936389280016e-11+0j))\n",
      "(8, -4, (9.3296937616029267e-11+0j))\n",
      "(8, -3, (9.329693815981576e-11+0j))\n",
      "(8, -2, (9.329693822183245e-11+0j))\n",
      "(8, -1, (9.3296938493720772e-11+0j))\n",
      "(8, 0, (9.3296939599493282e-11+0j))\n",
      "(8, 1, (9.3296939719509214e-11+0j))\n",
      "(8, 2, (9.329694019525086e-11+0j))\n",
      "(8, 3, (9.3296940288068422e-11+0j))\n",
      "(8, 4, (9.3296943567236833e-11+0j))\n",
      "(8, 5, (9.3297009376062094e-11+0j))\n",
      "(8, 6, (9.3297063256131172e-11+0j))\n",
      "(8, 7, (9.350143563314814e-11+0j))\n",
      "(8, 8, (9.4723761513500338e-11+0j))\n"
     ]
    }
   ],
   "source": [
    "t = SXS[:,0]\n",
    "sum=t[1:]*0; #initializing the energy\n",
    "for l in range(2,9):\n",
    "    for m in range(-l,l+1):\n",
    "        SXS = input_file1['Extrapolated_N2.dir']['Y_l%i_m%i.dat'%(l,m)]\n",
    "        #print(l,m)\n",
    "        t = SXS[:,0] \n",
    "        #h_real = SXS[]\n",
    "        h_real = SXS[:,1]\n",
    "        h_imag = SXS[:,2]\n",
    "        H = SXS[:,1]+(0+1j)*SXS[:,2]\n",
    "        Hdot = np.diff(H)/np.diff(t)\n",
    "       \n",
    "        hdot_real = np.diff(h_real)/dt #taking the diffrential \n",
    "        hdot_imag = np.diff(h_imag)/dt \n",
    "        #sum = sum + hdot_real*hdot_real + hdot_imag*hdot_imag #computing the square of Alm and adding it the energy\n",
    "        sum = sum + Hdot*np.conj(Hdot)\n",
    "        print(l,m,sum[-1])\n"
   ]
  },
  {
   "cell_type": "code",
   "execution_count": 9,
   "metadata": {
    "collapsed": false
   },
   "outputs": [
    {
     "name": "stderr",
     "output_type": "stream",
     "text": [
      "/home/rahul/anaconda/lib/python2.7/site-packages/numpy/core/numeric.py:462: ComplexWarning: Casting complex values to real discards the imaginary part\n",
      "  return array(a, dtype, copy=False, order=order)\n"
     ]
    },
    {
     "data": {
      "image/png": "[encoded data removed]",
      "text/plain": [
       "<matplotlib.figure.Figure at 0x7efd7999a190>"
      ]
     },
     "metadata": {},
     "output_type": "display_data"
    }
   ],
   "source": [
    "e = np.cumsum(sum*dt)/(16*np.pi) #integrating and dividing by the correct factor\n",
    "plt.figure(1)\n",
    "plt.plot(t[1:],e)\n",
    "plt.show()\n",
    "\n"
   ]
  },
  {
   "cell_type": "code",
   "execution_count": 10,
   "metadata": {
    "collapsed": false
   },
   "outputs": [
    {
     "name": "stdout",
     "output_type": "stream",
     "text": [
      "(0.960856146497+0j)\n"
     ]
    }
   ],
   "source": [
    "Remnant = initial-e[-1] #Subtracting radiated energy from the initial energy\n",
    "print(Remnant)\n"
   ]
  },
  {
   "cell_type": "code",
   "execution_count": null,
   "metadata": {
    "collapsed": false
   },
   "outputs": [],
   "source": []
  },
  {
   "cell_type": "code",
   "execution_count": null,
   "metadata": {
    "collapsed": false
   },
   "outputs": [],
   "source": []
  },
  {
   "cell_type": "code",
   "execution_count": null,
   "metadata": {
    "collapsed": true
   },
   "outputs": [],
   "source": []
  }
 ],
 "metadata": {
  "kernelspec": {
   "display_name": "Python 2",
   "language": "python",
   "name": "python2"
  },
  "language_info": {
   "codemirror_mode": {
    "name": "ipython",
    "version": 2
   },
   "file_extension": ".py",
   "mimetype": "text/x-python",
   "name": "python",
   "nbconvert_exporter": "python",
   "pygments_lexer": "ipython2",
   "version": "2.7.11"
  }
 },
 "nbformat": 4,
 "nbformat_minor": 0
}
